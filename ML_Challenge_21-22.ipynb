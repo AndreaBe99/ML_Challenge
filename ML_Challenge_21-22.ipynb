{
 "cells": [
  {
   "cell_type": "markdown",
   "id": "9ad031c2",
   "metadata": {
    "id": "43x6IL9QwucL"
   },
   "source": [
    "# Machine Learning 2021/2022 - Challenge \n",
    "\n",
    "<hr>\n",
    "\n",
    "# Identification\n"
   ]
  },
  {
   "cell_type": "code",
   "execution_count": 12,
   "id": "59db59b1",
   "metadata": {
    "execution": {
     "iopub.execute_input": "2022-01-05T09:48:27.723171Z",
     "iopub.status.busy": "2022-01-05T09:48:27.721517Z",
     "iopub.status.idle": "2022-01-05T09:48:27.739236Z",
     "shell.execute_reply": "2022-01-05T09:48:27.738081Z",
     "shell.execute_reply.started": "2022-01-05T09:48:27.722951Z"
    },
    "id": "L7d-PWF7wucN"
   },
   "outputs": [],
   "source": [
    "yourNameSurname='Andrea Bernini' # e.g., yourNameSurname='Mario Rossi'\n",
    "yourMatricolaNumber='2021867' # e.g., yourMatricolaNumber='12345678'\n",
    "yourStudentEMAIL='bernini.2021867@studenti.uniroma1.it' # e.g., yourStudentEMAIL='rossim.12345678@studenti.uniroma1.it'"
   ]
  },
  {
   "cell_type": "markdown",
   "id": "14aee5c0",
   "metadata": {
    "id": "89W7WgUQwucO"
   },
   "source": [
    "<hr>\n",
    "\n",
    "## 1. Mandatory Rules:\n",
    "- This year the results of the challenges will count 11,2/28 of your final grade (full info about grades <a href='https://twiki.di.uniroma1.it/twiki/view/ApprAuto '>here</a>).\n",
    "- Only one submission is allowed. We will not consider multiple submissions.\n",
    "- Please remember your solution must be <b>\"YOUR SOLUTION\"</b>, hence you are requested to deliver your individual answers/arguments/opinions/critics.\n",
    "- Mail your solution (with your <b>jupyter notebook</b> and the cleaned dataset) only to stefano.faralli@uniroma1.it <b>deadlines are announced on the ML google group and <a href='https://twiki.di.uniroma1.it/twiki/view/ApprAuto'>here</a> (NO EXCEPTIONS)</b> if you miss to deliver your solution you must wait the next (if any) available deadline. \n",
    "- The subject of your email must be: \"[ML-21-22-Challenge_solution] NAME - SURNAME - MATRICOLA\".\n",
    "- Double check the subject of your email and the attachments.\n",
    "- In case you want to compress the attachment, <b>USE ONLY STANDARD ZIP compression</b> (NO RAR,7Z etc..).\n",
    "- <b>Please sumbit The notebook (with SAVED OUTPUTS) and the cleaned dataset!</b>.\n",
    "- Your solution might be considered as the \"copy\" of others solutions, in that specific case the resulting score for all involved students will be 0/8.\n",
    "- Then read carefully all the part of the jupyter notebook and fill all fields.\n",
    "- <b>solutions (and correspondig points) are evaluated mainly on your thoughts/comments/opinions</b>.  \n",
    "- If you have questions <b>Don't write \"personal\" emails</b> to Stefano Faralli, instead <b>use our google group</b>.\n",
    "- A solution having a summary discussion with less than 500 words is evaluated with 0 points.\n",
    "- Comments summary etc.. must be in <b>English</b>."
   ]
  },
  {
   "cell_type": "markdown",
   "id": "35242475",
   "metadata": {
    "id": "TKiXBP7CwucP"
   },
   "source": [
    "<hr>\n",
    "\n",
    "\n",
    "### Dataset and task Description:\n",
    "<img width='400' src='news-online.jpeg'/>\n",
    "\n",
    "- The challenge is about online news popularity;\n",
    "- The provided dataset consists of one single csv file (\"OnlineNewsPopularity.csv\");\n",
    "- The provided dataset is a modified <b>noisy</b> version of the original dataset described in [1];\n",
    "\n",
    "[1] K. Fernandes, P. Vinagre and P. Cortez. A Proactive Intelligent Decision\n",
    "    Support System for Predicting the Popularity of Online News. Proceedings\n",
    "    of the 17th EPIA 2015 - Portuguese Conference on Artificial Intelligence,\n",
    "    September, Coimbra, Portugal\n",
    "\n",
    "\n",
    "This dataset summarizes a heterogeneous set of features about articles published by Mashable in a period of two years. The goal of the task is to predict the number of shares in social networks (popularity).\n",
    "\n",
    "Number of Instances: <b>39,797</b> \n",
    "\n",
    "Number of Attributes: <b>61</b>\n",
    "\n",
    "Target: <b>shares</b>\n",
    "\n",
    "### Attribute Information:\n",
    "\n",
    "<table>\n",
    " <tr><th> index </th><th>name</th><th>description</th></tr>\n",
    " <tr><td>0</td><td>url</td><td>URL of the article</td></tr>\n",
    " <tr><td>1</td><td>timedelta</td><td>Days between the article publication and the dataset acquisition</td></tr>\n",
    " <tr><td>2</td><td>n_tokens_title</td><td>Number of words in the title</td></tr>\n",
    " <tr><td>3</td><td>n_tokens_content</td><td>Number of words in the content</td></tr>\n",
    " <tr><td>4</td><td>n_unique_tokens</td><td>Rate of unique words in the content</td></tr>\n",
    " <tr><td>5</td><td>n_non_stop_words</td><td>Rate of non-stop words in the content</td></tr>\n",
    " <tr><td>6</td><td>n_non_stop_unique_tokens</td><td>Rate of unique non-stop words in content</td></tr>\n",
    " <tr><td>7</td><td>num_hrefs</td><td>Number of links</td></tr>\n",
    " <tr><td>8</td><td>num_self_hrefs</td><td>Number of links to other articles published by Mashable</td></tr>\n",
    " <tr><td>9</td><td>num_imgs</td><td>Number of images</td></tr>\n",
    " <tr><td>10</td><td>num_videos</td><td>Number of videos</td></tr>\n",
    " <tr><td>11</td><td>average_token_length</td><td>Average length of the words in the content</td></tr>\n",
    " <tr><td>12</td><td>num_keywords</td><td>Number of keywords in the metadata</td></tr>\n",
    " <tr><td>13</td><td>data_channel_is_lifestyle</td><td>Is data channel 'Lifestyle'?</td></tr>\n",
    " <tr><td>14</td><td>data_channel_is_entertainment</td><td>Is data channel 'Entertainment'?</td></tr>\n",
    " <tr><td>15</td><td>data_channel_is_bus</td><td>Is data channel 'Business'?</td></tr>\n",
    " <tr><td>16</td><td>data_channel_is_socmed</td><td>Is data channel 'Social Media'?</td></tr>\n",
    " <tr><td>17</td><td>data_channel_is_tech</td><td>Is data channel 'Tech'?</td></tr>\n",
    " <tr><td>18</td><td>data_channel_is_world</td><td>Is data channel 'World'?</td></tr>\n",
    " <tr><td>19</td><td>kw_min_min</td><td>Worst keyword (min. shares)</td></tr>\n",
    " <tr><td>20</td><td>kw_max_min</td><td>Worst keyword (max. shares)</td></tr>\n",
    " <tr><td>21</td><td>kw_avg_min</td><td>Worst keyword (avg. shares)</td></tr>\n",
    " <tr><td>22</td><td>kw_min_max</td><td>Best keyword (min. shares)</td></tr>\n",
    " <tr><td>23</td><td>kw_max_max</td><td>Best keyword (max. shares)</td></tr>\n",
    " <tr><td>24</td><td>kw_avg_max</td><td>Best keyword (avg. shares)</td></tr>\n",
    " <tr><td>25</td><td>kw_min_avg</td><td>Avg. keyword (min. shares)</td></tr>\n",
    " <tr><td>26</td><td>kw_max_avg</td><td>Avg. keyword (max. shares)</td></tr>\n",
    " <tr><td>27</td><td>kw_avg_avg</td><td>Avg. keyword (avg. shares)</td></tr>\n",
    " <tr><td>28</td><td>self_reference_min_shares</td><td>Min. shares of referenced articles in Mashable</td></tr>\n",
    " <tr><td>29</td><td>self_reference_max_shares</td><td>Max. shares of referenced articles in Mashable</td></tr>\n",
    " <tr><td>30</td><td>self_reference_avg_sharess</td><td>Avg. shares of referenced articles in Mashable</td></tr>\n",
    " <tr><td>31</td><td>weekday_is_monday</td><td>Was the article published on a Monday?</td></tr>\n",
    " <tr><td>32</td><td>weekday_is_tuesday</td><td>Was the article published on a Tuesday?</td></tr>\n",
    " <tr><td>33</td><td>weekday_is_wednesday</td><td>Was the article published on a Wednesday?</td></tr>\n",
    " <tr><td>34</td><td>weekday_is_thursday</td><td>Was the article published on a Thursday?</td></tr>\n",
    " <tr><td>35</td><td>weekday_is_friday</td><td>Was the article published on a Friday?</td></tr>\n",
    " <tr><td>36</td><td>weekday_is_saturday</td><td>Was the article published on a Saturday?</td></tr>\n",
    " <tr><td>37</td><td>weekday_is_sunday</td><td> Was the article published on a Sunday?</td></tr>\n",
    " <tr><td>38</td><td>is_weekend</td><td>Was the article published on the weekend?</td></tr>\n",
    " <tr><td>39</td><td>LDA_00</td><td>Closeness to LDA topic 0</td></tr>\n",
    " <tr><td>40</td><td>LDA_01</td><td>Closeness to LDA topic 1</td></tr>\n",
    " <tr><td>41</td><td>LDA_02</td><td>Closeness to LDA topic 2</td></tr>\n",
    " <tr><td>42</td><td>LDA_03</td><td>Closeness to LDA topic 3</td></tr>\n",
    " <tr><td>43</td><td>LDA_04</td><td>Closeness to LDA topic 4</td></tr>\n",
    " <tr><td>44</td><td>global_subjectivity</td><td>Text subjectivity</td></tr>\n",
    " <tr><td>45</td><td>global_sentiment_polarity</td><td>Text sentiment polarity</td></tr>\n",
    " <tr><td>46</td><td>global_rate_positive_words</td><td>Rate of positive words in the content</td></tr>\n",
    " <tr><td>47</td><td>global_rate_negative_words</td><td> Rate of negative words in the content</td></tr>\n",
    " <tr><td>48</td><td>rate_positive_words</td><td>Rate of positive words among non-neutral tokens</td></tr>\n",
    " <tr><td>49</td><td>rate_negative_words</td><td>Rate of negative words among non-neutral tokens</td></tr>\n",
    " <tr><td>50</td><td>avg_positive_polarity</td><td>Avg. polarity of positive words</td></tr>\n",
    " <tr><td>51</td><td>min_positive_polarity</td><td>Min. polarity of positive words</td></tr>\n",
    " <tr><td>52</td><td>max_positive_polarity</td><td>Max. polarity of positive words</td></tr>\n",
    " <tr><td>53</td><td>avg_negative_polarity</td><td>Avg. polarity of negative words</td></tr>\n",
    " <tr><td>54</td><td>min_negative_polarity</td><td>Min. polarity of negative words</td></tr>\n",
    " <tr><td>55</td><td>max_negative_polarity</td><td>Max. polarity of negative words</td></tr>\n",
    " <tr><td>56</td><td>title_subjectivity</td><td>Title subjectivity</td></tr>\n",
    " <tr><td>57</td><td>title_sentiment_polarity</td><td>Title polarity</td></tr>\n",
    " <tr><td>58</td><td>abs_title_subjectivity</td><td>Absolute subjectivity level</td></tr>\n",
    " <tr><td>59</td><td>abs_title_sentiment_polarity</td><td>Absolute polarity level</td></tr>\n",
    "     <tr><td>60</td><td>shares</td><td>Number of shares (target)</td></tr>\n",
    "</table>\n",
    "\n"
   ]
  },
  {
   "cell_type": "markdown",
   "id": "31da7c5f",
   "metadata": {
    "id": "o4uNdCG1wucT"
   },
   "source": [
    "<hr>\n",
    "\n",
    "# 2. Pre-processing (up to 3 of 11.2 points)     \n",
    "     \n",
    "     \n",
    "## 2.1 Clean and Load the Dataset (up to 1 of 11.2 points)\n",
    "Use the following two cells (a code cell and, a markdown cell) to: \n",
    "- create a pandas DataFrame by loading a cleaned version of the \"OnlineNewsPopularity.cvs\" file.  \n",
    "- describe the identified noise and the methodology used to fix the problems. "
   ]
  },
  {
   "cell_type": "code",
   "execution_count": 17,
   "id": "48972f50",
   "metadata": {
    "execution": {
     "iopub.execute_input": "2022-01-05T09:48:27.741539Z",
     "iopub.status.busy": "2022-01-05T09:48:27.741279Z",
     "iopub.status.idle": "2022-01-05T09:48:28.261072Z",
     "shell.execute_reply": "2022-01-05T09:48:28.260256Z",
     "shell.execute_reply.started": "2022-01-05T09:48:27.741509Z"
    },
    "id": "3gUsDDDvwucU"
   },
   "outputs": [],
   "source": [
    "# Basic libreries \n",
    "import pandas as pd\n",
    "import numpy as np\n",
    "import matplotlib.pyplot as plt\n",
    "\n",
    "# Pre-processing phase\n",
    "from sklearn import preprocessing\n",
    "from imblearn.over_sampling import SMOTE\n",
    "from sklearn.model_selection import train_test_split\n",
    "\n",
    "# Features Importance\n",
    "from sklearn.inspection import permutation_importance\n",
    "\n",
    "# Model\n",
    "from sklearn import tree\n",
    "from sklearn import svm\n",
    "from sklearn.ensemble import RandomForestClassifier\n",
    "from sklearn.neural_network import MLPClassifier\n",
    "\n",
    "# Hyper-Parameter Tuning\n",
    "from sklearn.model_selection import GridSearchCV\n",
    "from sklearn.model_selection import RandomizedSearchCV\n",
    "\n",
    "from sklearn.model_selection import cross_val_score\n",
    "\n",
    "# Evaluation\n",
    "from sklearn.metrics import confusion_matrix\n",
    "from sklearn.metrics import classification_report"
   ]
  },
  {
   "cell_type": "markdown",
   "id": "010095f5",
   "metadata": {
    "id": "eIDJ4A9mwucU"
   },
   "source": [
    "I use this command to show all 61 columns."
   ]
  },
  {
   "cell_type": "code",
   "execution_count": 18,
   "id": "9d2c6516",
   "metadata": {
    "execution": {
     "iopub.execute_input": "2022-01-05T09:48:28.262722Z",
     "iopub.status.busy": "2022-01-05T09:48:28.262288Z",
     "iopub.status.idle": "2022-01-05T09:48:28.267303Z",
     "shell.execute_reply": "2022-01-05T09:48:28.266363Z",
     "shell.execute_reply.started": "2022-01-05T09:48:28.262691Z"
    },
    "id": "w6QFnmpowucU"
   },
   "outputs": [],
   "source": [
    "pd.set_option('display.max_columns', None)"
   ]
  },
  {
   "cell_type": "markdown",
   "id": "4a0708c6",
   "metadata": {
    "id": "7FL2lBZ8wucU"
   },
   "source": [
    "As a first approach I inspected the original file `OnlineNewsPopularity.csv` and I found several extra `\\n` characters inside some lines, precisely at `39648`, `39646`, `39592`, `36264` and finally in line `39537` in column `7` there is an unnecessary comma that brings the number of columns to 62."
   ]
  },
  {
   "cell_type": "markdown",
   "id": "836c468e",
   "metadata": {
    "id": "dpYxQPoNwucV"
   },
   "source": [
    "As indicated by the delivery I have created a correct and clean copy of the original dataset called `CleanOnlineNewsPopularity.csv`."
   ]
  },
  {
   "cell_type": "markdown",
   "id": "2fcf4830",
   "metadata": {
    "id": "cgHFyrPEwucV"
   },
   "source": [
    "Inside the dataset there are strings \" `n.a.`\" which represent Missing Values, however they are not recognized by Pandas, so it is necessary to add the `na_values` attribute."
   ]
  },
  {
   "cell_type": "code",
   "execution_count": 19,
   "id": "7db1c368",
   "metadata": {
    "execution": {
     "iopub.execute_input": "2022-01-05T09:48:28.269251Z",
     "iopub.status.busy": "2022-01-05T09:48:28.269015Z",
     "iopub.status.idle": "2022-01-05T09:48:28.933776Z",
     "shell.execute_reply": "2022-01-05T09:48:28.932919Z",
     "shell.execute_reply.started": "2022-01-05T09:48:28.269223Z"
    },
    "id": "tCFz0Tn8wucV"
   },
   "outputs": [],
   "source": [
    "# These are different paths based on the platform I used.\n",
    "\n",
    "# Google Colab\n",
    "# path = 'https://raw.githubusercontent.com/AndreaBe99/ML_Challenge/main/CleanOnlineNewsPopularity.csv'\n",
    "\n",
    "# Kaggle\n",
    "# path = \"../input/cleadonp/CleanOnlineNewsPopularity.csv\"\n",
    "\n",
    "# Local\n",
    "path = \"CleanOnlineNewsPopularity.csv\"\n",
    "\n",
    "online_news_popularity = pd.read_csv(path, low_memory=False, na_values = [\" n.a.\"])"
   ]
  },
  {
   "cell_type": "markdown",
   "id": "96d4a401",
   "metadata": {
    "id": "TQ-fTt0VwucV"
   },
   "source": [
    "In the next three cells there are information on the Missing Value."
   ]
  },
  {
   "cell_type": "code",
   "execution_count": 20,
   "id": "d800a7c9",
   "metadata": {
    "execution": {
     "iopub.execute_input": "2022-01-05T09:48:28.935354Z",
     "iopub.status.busy": "2022-01-05T09:48:28.935117Z",
     "iopub.status.idle": "2022-01-05T09:48:28.953738Z",
     "shell.execute_reply": "2022-01-05T09:48:28.953152Z",
     "shell.execute_reply.started": "2022-01-05T09:48:28.935327Z"
    },
    "id": "vLPwYX39wucW",
    "outputId": "3a9101cc-a2ca-4953-a321-da220d0d4922"
   },
   "outputs": [
    {
     "data": {
      "text/plain": [
       "5"
      ]
     },
     "execution_count": 20,
     "metadata": {},
     "output_type": "execute_result"
    }
   ],
   "source": [
    "# Total number of Missing Values\n",
    "online_news_popularity.isna().sum().sum()"
   ]
  },
  {
   "cell_type": "code",
   "execution_count": 21,
   "id": "f58c5431",
   "metadata": {
    "execution": {
     "iopub.execute_input": "2022-01-05T09:48:28.955279Z",
     "iopub.status.busy": "2022-01-05T09:48:28.955051Z",
     "iopub.status.idle": "2022-01-05T09:48:28.970837Z",
     "shell.execute_reply": "2022-01-05T09:48:28.970021Z",
     "shell.execute_reply.started": "2022-01-05T09:48:28.955250Z"
    },
    "id": "hjgYZ-uwwucW",
    "outputId": "31899452-7205-45b9-e7fe-64e9cd54a62d"
   },
   "outputs": [
    {
     "data": {
      "text/plain": [
       "url                             False\n",
       "timedelta                       False\n",
       "n_tokens_title                  False\n",
       "n_tokens_content                False\n",
       "n_unique_tokens                 False\n",
       "                                ...  \n",
       "title_subjectivity              False\n",
       "title_sentiment_polarity        False\n",
       "abs_title_subjectivity          False\n",
       "abs_title_sentiment_polarity    False\n",
       "shares                           True\n",
       "Length: 61, dtype: bool"
      ]
     },
     "execution_count": 21,
     "metadata": {},
     "output_type": "execute_result"
    }
   ],
   "source": [
    "# True if there are Missing Value in the features, False otherwise\n",
    "online_news_popularity.isna().any()"
   ]
  },
  {
   "cell_type": "code",
   "execution_count": 22,
   "id": "e0825c84",
   "metadata": {
    "execution": {
     "iopub.execute_input": "2022-01-05T09:48:28.972231Z",
     "iopub.status.busy": "2022-01-05T09:48:28.972027Z",
     "iopub.status.idle": "2022-01-05T09:48:28.989630Z",
     "shell.execute_reply": "2022-01-05T09:48:28.989040Z",
     "shell.execute_reply.started": "2022-01-05T09:48:28.972197Z"
    },
    "id": "fbkE7xnswucX",
    "outputId": "a46d3cb4-574b-4fa0-f10d-d9cd2b388533"
   },
   "outputs": [
    {
     "data": {
      "text/plain": [
       "url                             0\n",
       "timedelta                       0\n",
       "n_tokens_title                  0\n",
       "n_tokens_content                0\n",
       "n_unique_tokens                 0\n",
       "                               ..\n",
       "title_subjectivity              0\n",
       "title_sentiment_polarity        0\n",
       "abs_title_subjectivity          0\n",
       "abs_title_sentiment_polarity    0\n",
       "shares                          1\n",
       "Length: 61, dtype: int64"
      ]
     },
     "execution_count": 22,
     "metadata": {},
     "output_type": "execute_result"
    }
   ],
   "source": [
    "# Total number of Missing Values for each feature\n",
    "online_news_popularity.isna().sum()"
   ]
  },
  {
   "cell_type": "code",
   "execution_count": 23,
   "id": "8aae535e",
   "metadata": {
    "execution": {
     "iopub.execute_input": "2022-01-05T09:48:28.991021Z",
     "iopub.status.busy": "2022-01-05T09:48:28.990792Z",
     "iopub.status.idle": "2022-01-05T09:48:29.230463Z",
     "shell.execute_reply": "2022-01-05T09:48:29.229594Z",
     "shell.execute_reply.started": "2022-01-05T09:48:28.990955Z"
    },
    "id": "6J089vVZwucX",
    "outputId": "c98974b6-60df-4761-cb92-9b3dd15a50d0"
   },
   "outputs": [
    {
     "data": {
      "text/html": [
       "<div>\n",
       "<style scoped>\n",
       "    .dataframe tbody tr th:only-of-type {\n",
       "        vertical-align: middle;\n",
       "    }\n",
       "\n",
       "    .dataframe tbody tr th {\n",
       "        vertical-align: top;\n",
       "    }\n",
       "\n",
       "    .dataframe thead th {\n",
       "        text-align: right;\n",
       "    }\n",
       "</style>\n",
       "<table border=\"1\" class=\"dataframe\">\n",
       "  <thead>\n",
       "    <tr style=\"text-align: right;\">\n",
       "      <th></th>\n",
       "      <th>timedelta</th>\n",
       "      <th>n_tokens_title</th>\n",
       "      <th>n_tokens_content</th>\n",
       "      <th>n_unique_tokens</th>\n",
       "      <th>n_non_stop_words</th>\n",
       "      <th>n_non_stop_unique_tokens</th>\n",
       "      <th>num_hrefs</th>\n",
       "      <th>num_self_hrefs</th>\n",
       "      <th>num_imgs</th>\n",
       "      <th>num_videos</th>\n",
       "      <th>average_token_length</th>\n",
       "      <th>num_keywords</th>\n",
       "      <th>data_channel_is_lifestyle</th>\n",
       "      <th>data_channel_is_entertainment</th>\n",
       "      <th>data_channel_is_bus</th>\n",
       "      <th>data_channel_is_socmed</th>\n",
       "      <th>data_channel_is_tech</th>\n",
       "      <th>data_channel_is_world</th>\n",
       "      <th>kw_min_min</th>\n",
       "      <th>kw_max_min</th>\n",
       "      <th>kw_avg_min</th>\n",
       "      <th>kw_min_max</th>\n",
       "      <th>kw_max_max</th>\n",
       "      <th>kw_avg_max</th>\n",
       "      <th>kw_min_avg</th>\n",
       "      <th>kw_max_avg</th>\n",
       "      <th>kw_avg_avg</th>\n",
       "      <th>self_reference_min_shares</th>\n",
       "      <th>self_reference_max_shares</th>\n",
       "      <th>self_reference_avg_sharess</th>\n",
       "      <th>weekday_is_monday</th>\n",
       "      <th>weekday_is_tuesday</th>\n",
       "      <th>weekday_is_wednesday</th>\n",
       "      <th>weekday_is_thursday</th>\n",
       "      <th>weekday_is_friday</th>\n",
       "      <th>weekday_is_saturday</th>\n",
       "      <th>weekday_is_sunday</th>\n",
       "      <th>is_weekend</th>\n",
       "      <th>LDA_00</th>\n",
       "      <th>LDA_01</th>\n",
       "      <th>LDA_02</th>\n",
       "      <th>LDA_03</th>\n",
       "      <th>LDA_04</th>\n",
       "      <th>global_subjectivity</th>\n",
       "      <th>global_sentiment_polarity</th>\n",
       "      <th>global_rate_positive_words</th>\n",
       "      <th>global_rate_negative_words</th>\n",
       "      <th>rate_positive_words</th>\n",
       "      <th>rate_negative_words</th>\n",
       "      <th>avg_positive_polarity</th>\n",
       "      <th>min_positive_polarity</th>\n",
       "      <th>max_positive_polarity</th>\n",
       "      <th>avg_negative_polarity</th>\n",
       "      <th>min_negative_polarity</th>\n",
       "      <th>max_negative_polarity</th>\n",
       "      <th>title_subjectivity</th>\n",
       "      <th>title_sentiment_polarity</th>\n",
       "      <th>abs_title_subjectivity</th>\n",
       "      <th>abs_title_sentiment_polarity</th>\n",
       "      <th>shares</th>\n",
       "    </tr>\n",
       "  </thead>\n",
       "  <tbody>\n",
       "    <tr>\n",
       "      <th>count</th>\n",
       "      <td>39644.000000</td>\n",
       "      <td>39644.000000</td>\n",
       "      <td>39644.000000</td>\n",
       "      <td>39644.000000</td>\n",
       "      <td>39644.000000</td>\n",
       "      <td>39644.000000</td>\n",
       "      <td>39644.000000</td>\n",
       "      <td>39644.000000</td>\n",
       "      <td>39643.000000</td>\n",
       "      <td>39642.000000</td>\n",
       "      <td>39644.000000</td>\n",
       "      <td>39644.000000</td>\n",
       "      <td>39644.000000</td>\n",
       "      <td>39644.000000</td>\n",
       "      <td>39644.000000</td>\n",
       "      <td>39644.000000</td>\n",
       "      <td>39644.000000</td>\n",
       "      <td>39644.000000</td>\n",
       "      <td>39644.000000</td>\n",
       "      <td>39644.000000</td>\n",
       "      <td>39644.000000</td>\n",
       "      <td>39644.000000</td>\n",
       "      <td>39644.000000</td>\n",
       "      <td>39644.000000</td>\n",
       "      <td>39644.000000</td>\n",
       "      <td>39644.000000</td>\n",
       "      <td>39644.000000</td>\n",
       "      <td>39644.000000</td>\n",
       "      <td>39644.000000</td>\n",
       "      <td>39644.000000</td>\n",
       "      <td>39644.000000</td>\n",
       "      <td>39644.000000</td>\n",
       "      <td>39644.000000</td>\n",
       "      <td>39644.000000</td>\n",
       "      <td>39644.000000</td>\n",
       "      <td>39644.000000</td>\n",
       "      <td>39643.000000</td>\n",
       "      <td>39644.000000</td>\n",
       "      <td>39644.000000</td>\n",
       "      <td>39644.000000</td>\n",
       "      <td>39644.000000</td>\n",
       "      <td>39644.000000</td>\n",
       "      <td>39644.000000</td>\n",
       "      <td>39644.000000</td>\n",
       "      <td>39644.000000</td>\n",
       "      <td>39644.000000</td>\n",
       "      <td>39644.000000</td>\n",
       "      <td>39644.000000</td>\n",
       "      <td>39644.000000</td>\n",
       "      <td>39644.000000</td>\n",
       "      <td>39644.000000</td>\n",
       "      <td>39644.000000</td>\n",
       "      <td>39644.000000</td>\n",
       "      <td>39644.000000</td>\n",
       "      <td>39644.000000</td>\n",
       "      <td>39644.000000</td>\n",
       "      <td>39644.000000</td>\n",
       "      <td>39644.000000</td>\n",
       "      <td>39644.000000</td>\n",
       "      <td>39643.000000</td>\n",
       "    </tr>\n",
       "    <tr>\n",
       "      <th>mean</th>\n",
       "      <td>354.530471</td>\n",
       "      <td>10.398749</td>\n",
       "      <td>546.514731</td>\n",
       "      <td>0.548216</td>\n",
       "      <td>0.996469</td>\n",
       "      <td>0.689175</td>\n",
       "      <td>10.883690</td>\n",
       "      <td>3.293638</td>\n",
       "      <td>4.544257</td>\n",
       "      <td>1.249937</td>\n",
       "      <td>4.548239</td>\n",
       "      <td>7.223767</td>\n",
       "      <td>0.052946</td>\n",
       "      <td>0.178009</td>\n",
       "      <td>0.157855</td>\n",
       "      <td>0.058597</td>\n",
       "      <td>0.185299</td>\n",
       "      <td>0.212567</td>\n",
       "      <td>26.106801</td>\n",
       "      <td>1153.951682</td>\n",
       "      <td>312.366967</td>\n",
       "      <td>13612.354102</td>\n",
       "      <td>752324.066694</td>\n",
       "      <td>259281.938083</td>\n",
       "      <td>1117.146610</td>\n",
       "      <td>5657.211151</td>\n",
       "      <td>3135.858639</td>\n",
       "      <td>3998.755396</td>\n",
       "      <td>10329.212662</td>\n",
       "      <td>6401.697580</td>\n",
       "      <td>0.168020</td>\n",
       "      <td>0.186409</td>\n",
       "      <td>0.187544</td>\n",
       "      <td>0.183306</td>\n",
       "      <td>0.143805</td>\n",
       "      <td>0.061876</td>\n",
       "      <td>0.069041</td>\n",
       "      <td>0.130915</td>\n",
       "      <td>0.184599</td>\n",
       "      <td>0.141256</td>\n",
       "      <td>0.216321</td>\n",
       "      <td>0.223770</td>\n",
       "      <td>0.234029</td>\n",
       "      <td>0.443370</td>\n",
       "      <td>0.119309</td>\n",
       "      <td>0.039625</td>\n",
       "      <td>0.016612</td>\n",
       "      <td>0.682150</td>\n",
       "      <td>0.287934</td>\n",
       "      <td>0.353825</td>\n",
       "      <td>0.095446</td>\n",
       "      <td>0.756728</td>\n",
       "      <td>-0.259524</td>\n",
       "      <td>-0.521944</td>\n",
       "      <td>-0.107500</td>\n",
       "      <td>0.282353</td>\n",
       "      <td>0.071425</td>\n",
       "      <td>0.341843</td>\n",
       "      <td>0.156064</td>\n",
       "      <td>3395.447822</td>\n",
       "    </tr>\n",
       "    <tr>\n",
       "      <th>std</th>\n",
       "      <td>214.163767</td>\n",
       "      <td>2.114037</td>\n",
       "      <td>471.107508</td>\n",
       "      <td>3.520708</td>\n",
       "      <td>5.231231</td>\n",
       "      <td>3.264816</td>\n",
       "      <td>11.332017</td>\n",
       "      <td>3.855141</td>\n",
       "      <td>8.309507</td>\n",
       "      <td>4.107949</td>\n",
       "      <td>0.844406</td>\n",
       "      <td>1.909130</td>\n",
       "      <td>0.223929</td>\n",
       "      <td>0.382525</td>\n",
       "      <td>0.364610</td>\n",
       "      <td>0.234871</td>\n",
       "      <td>0.388545</td>\n",
       "      <td>0.409129</td>\n",
       "      <td>69.633215</td>\n",
       "      <td>3857.990877</td>\n",
       "      <td>620.783887</td>\n",
       "      <td>57986.029357</td>\n",
       "      <td>214502.129573</td>\n",
       "      <td>135102.247285</td>\n",
       "      <td>1137.456951</td>\n",
       "      <td>6098.871957</td>\n",
       "      <td>1318.150397</td>\n",
       "      <td>19738.670516</td>\n",
       "      <td>41027.576613</td>\n",
       "      <td>24211.332231</td>\n",
       "      <td>0.373889</td>\n",
       "      <td>0.389441</td>\n",
       "      <td>0.390353</td>\n",
       "      <td>0.386922</td>\n",
       "      <td>0.350896</td>\n",
       "      <td>0.240933</td>\n",
       "      <td>0.253527</td>\n",
       "      <td>0.337312</td>\n",
       "      <td>0.262975</td>\n",
       "      <td>0.219707</td>\n",
       "      <td>0.282145</td>\n",
       "      <td>0.295191</td>\n",
       "      <td>0.289183</td>\n",
       "      <td>0.116685</td>\n",
       "      <td>0.096931</td>\n",
       "      <td>0.017429</td>\n",
       "      <td>0.010828</td>\n",
       "      <td>0.190206</td>\n",
       "      <td>0.156156</td>\n",
       "      <td>0.104542</td>\n",
       "      <td>0.071315</td>\n",
       "      <td>0.247786</td>\n",
       "      <td>0.127726</td>\n",
       "      <td>0.290290</td>\n",
       "      <td>0.095373</td>\n",
       "      <td>0.324247</td>\n",
       "      <td>0.265450</td>\n",
       "      <td>0.188791</td>\n",
       "      <td>0.226294</td>\n",
       "      <td>11627.089598</td>\n",
       "    </tr>\n",
       "    <tr>\n",
       "      <th>min</th>\n",
       "      <td>8.000000</td>\n",
       "      <td>2.000000</td>\n",
       "      <td>0.000000</td>\n",
       "      <td>0.000000</td>\n",
       "      <td>0.000000</td>\n",
       "      <td>0.000000</td>\n",
       "      <td>0.000000</td>\n",
       "      <td>0.000000</td>\n",
       "      <td>0.000000</td>\n",
       "      <td>0.000000</td>\n",
       "      <td>0.000000</td>\n",
       "      <td>1.000000</td>\n",
       "      <td>0.000000</td>\n",
       "      <td>0.000000</td>\n",
       "      <td>0.000000</td>\n",
       "      <td>0.000000</td>\n",
       "      <td>0.000000</td>\n",
       "      <td>0.000000</td>\n",
       "      <td>-1.000000</td>\n",
       "      <td>0.000000</td>\n",
       "      <td>-1.000000</td>\n",
       "      <td>0.000000</td>\n",
       "      <td>0.000000</td>\n",
       "      <td>0.000000</td>\n",
       "      <td>-1.000000</td>\n",
       "      <td>0.000000</td>\n",
       "      <td>0.000000</td>\n",
       "      <td>0.000000</td>\n",
       "      <td>0.000000</td>\n",
       "      <td>0.000000</td>\n",
       "      <td>0.000000</td>\n",
       "      <td>0.000000</td>\n",
       "      <td>0.000000</td>\n",
       "      <td>0.000000</td>\n",
       "      <td>0.000000</td>\n",
       "      <td>0.000000</td>\n",
       "      <td>0.000000</td>\n",
       "      <td>0.000000</td>\n",
       "      <td>0.000000</td>\n",
       "      <td>0.000000</td>\n",
       "      <td>0.000000</td>\n",
       "      <td>0.000000</td>\n",
       "      <td>0.000000</td>\n",
       "      <td>0.000000</td>\n",
       "      <td>-0.393750</td>\n",
       "      <td>0.000000</td>\n",
       "      <td>0.000000</td>\n",
       "      <td>0.000000</td>\n",
       "      <td>0.000000</td>\n",
       "      <td>0.000000</td>\n",
       "      <td>0.000000</td>\n",
       "      <td>0.000000</td>\n",
       "      <td>-1.000000</td>\n",
       "      <td>-1.000000</td>\n",
       "      <td>-1.000000</td>\n",
       "      <td>0.000000</td>\n",
       "      <td>-1.000000</td>\n",
       "      <td>0.000000</td>\n",
       "      <td>0.000000</td>\n",
       "      <td>1.000000</td>\n",
       "    </tr>\n",
       "    <tr>\n",
       "      <th>25%</th>\n",
       "      <td>164.000000</td>\n",
       "      <td>9.000000</td>\n",
       "      <td>246.000000</td>\n",
       "      <td>0.470870</td>\n",
       "      <td>1.000000</td>\n",
       "      <td>0.625739</td>\n",
       "      <td>4.000000</td>\n",
       "      <td>1.000000</td>\n",
       "      <td>1.000000</td>\n",
       "      <td>0.000000</td>\n",
       "      <td>4.478404</td>\n",
       "      <td>6.000000</td>\n",
       "      <td>0.000000</td>\n",
       "      <td>0.000000</td>\n",
       "      <td>0.000000</td>\n",
       "      <td>0.000000</td>\n",
       "      <td>0.000000</td>\n",
       "      <td>0.000000</td>\n",
       "      <td>-1.000000</td>\n",
       "      <td>445.000000</td>\n",
       "      <td>141.750000</td>\n",
       "      <td>0.000000</td>\n",
       "      <td>843300.000000</td>\n",
       "      <td>172846.875000</td>\n",
       "      <td>0.000000</td>\n",
       "      <td>3562.101631</td>\n",
       "      <td>2382.448566</td>\n",
       "      <td>639.000000</td>\n",
       "      <td>1100.000000</td>\n",
       "      <td>981.187500</td>\n",
       "      <td>0.000000</td>\n",
       "      <td>0.000000</td>\n",
       "      <td>0.000000</td>\n",
       "      <td>0.000000</td>\n",
       "      <td>0.000000</td>\n",
       "      <td>0.000000</td>\n",
       "      <td>0.000000</td>\n",
       "      <td>0.000000</td>\n",
       "      <td>0.025051</td>\n",
       "      <td>0.025012</td>\n",
       "      <td>0.028571</td>\n",
       "      <td>0.028571</td>\n",
       "      <td>0.028574</td>\n",
       "      <td>0.396167</td>\n",
       "      <td>0.057757</td>\n",
       "      <td>0.028384</td>\n",
       "      <td>0.009615</td>\n",
       "      <td>0.600000</td>\n",
       "      <td>0.185185</td>\n",
       "      <td>0.306244</td>\n",
       "      <td>0.050000</td>\n",
       "      <td>0.600000</td>\n",
       "      <td>-0.328383</td>\n",
       "      <td>-0.700000</td>\n",
       "      <td>-0.125000</td>\n",
       "      <td>0.000000</td>\n",
       "      <td>0.000000</td>\n",
       "      <td>0.166667</td>\n",
       "      <td>0.000000</td>\n",
       "      <td>946.000000</td>\n",
       "    </tr>\n",
       "    <tr>\n",
       "      <th>50%</th>\n",
       "      <td>339.000000</td>\n",
       "      <td>10.000000</td>\n",
       "      <td>409.000000</td>\n",
       "      <td>0.539226</td>\n",
       "      <td>1.000000</td>\n",
       "      <td>0.690476</td>\n",
       "      <td>8.000000</td>\n",
       "      <td>3.000000</td>\n",
       "      <td>1.000000</td>\n",
       "      <td>0.000000</td>\n",
       "      <td>4.664082</td>\n",
       "      <td>7.000000</td>\n",
       "      <td>0.000000</td>\n",
       "      <td>0.000000</td>\n",
       "      <td>0.000000</td>\n",
       "      <td>0.000000</td>\n",
       "      <td>0.000000</td>\n",
       "      <td>0.000000</td>\n",
       "      <td>-1.000000</td>\n",
       "      <td>660.000000</td>\n",
       "      <td>235.500000</td>\n",
       "      <td>1400.000000</td>\n",
       "      <td>843300.000000</td>\n",
       "      <td>244572.222223</td>\n",
       "      <td>1023.635611</td>\n",
       "      <td>4355.688836</td>\n",
       "      <td>2870.074878</td>\n",
       "      <td>1200.000000</td>\n",
       "      <td>2800.000000</td>\n",
       "      <td>2200.000000</td>\n",
       "      <td>0.000000</td>\n",
       "      <td>0.000000</td>\n",
       "      <td>0.000000</td>\n",
       "      <td>0.000000</td>\n",
       "      <td>0.000000</td>\n",
       "      <td>0.000000</td>\n",
       "      <td>0.000000</td>\n",
       "      <td>0.000000</td>\n",
       "      <td>0.033387</td>\n",
       "      <td>0.033345</td>\n",
       "      <td>0.040004</td>\n",
       "      <td>0.040001</td>\n",
       "      <td>0.040727</td>\n",
       "      <td>0.453457</td>\n",
       "      <td>0.119117</td>\n",
       "      <td>0.039023</td>\n",
       "      <td>0.015337</td>\n",
       "      <td>0.710526</td>\n",
       "      <td>0.280000</td>\n",
       "      <td>0.358755</td>\n",
       "      <td>0.100000</td>\n",
       "      <td>0.800000</td>\n",
       "      <td>-0.253333</td>\n",
       "      <td>-0.500000</td>\n",
       "      <td>-0.100000</td>\n",
       "      <td>0.150000</td>\n",
       "      <td>0.000000</td>\n",
       "      <td>0.500000</td>\n",
       "      <td>0.000000</td>\n",
       "      <td>1400.000000</td>\n",
       "    </tr>\n",
       "    <tr>\n",
       "      <th>75%</th>\n",
       "      <td>542.000000</td>\n",
       "      <td>12.000000</td>\n",
       "      <td>716.000000</td>\n",
       "      <td>0.608696</td>\n",
       "      <td>1.000000</td>\n",
       "      <td>0.754630</td>\n",
       "      <td>14.000000</td>\n",
       "      <td>4.000000</td>\n",
       "      <td>4.000000</td>\n",
       "      <td>1.000000</td>\n",
       "      <td>4.854839</td>\n",
       "      <td>9.000000</td>\n",
       "      <td>0.000000</td>\n",
       "      <td>0.000000</td>\n",
       "      <td>0.000000</td>\n",
       "      <td>0.000000</td>\n",
       "      <td>0.000000</td>\n",
       "      <td>0.000000</td>\n",
       "      <td>4.000000</td>\n",
       "      <td>1000.000000</td>\n",
       "      <td>357.000000</td>\n",
       "      <td>7900.000000</td>\n",
       "      <td>843300.000000</td>\n",
       "      <td>330980.000000</td>\n",
       "      <td>2056.781032</td>\n",
       "      <td>6019.953968</td>\n",
       "      <td>3600.229564</td>\n",
       "      <td>2600.000000</td>\n",
       "      <td>8000.000000</td>\n",
       "      <td>5200.000000</td>\n",
       "      <td>0.000000</td>\n",
       "      <td>0.000000</td>\n",
       "      <td>0.000000</td>\n",
       "      <td>0.000000</td>\n",
       "      <td>0.000000</td>\n",
       "      <td>0.000000</td>\n",
       "      <td>0.000000</td>\n",
       "      <td>0.000000</td>\n",
       "      <td>0.240958</td>\n",
       "      <td>0.150831</td>\n",
       "      <td>0.334218</td>\n",
       "      <td>0.375763</td>\n",
       "      <td>0.399986</td>\n",
       "      <td>0.508333</td>\n",
       "      <td>0.177832</td>\n",
       "      <td>0.050279</td>\n",
       "      <td>0.021739</td>\n",
       "      <td>0.800000</td>\n",
       "      <td>0.384615</td>\n",
       "      <td>0.411428</td>\n",
       "      <td>0.100000</td>\n",
       "      <td>1.000000</td>\n",
       "      <td>-0.186905</td>\n",
       "      <td>-0.300000</td>\n",
       "      <td>-0.050000</td>\n",
       "      <td>0.500000</td>\n",
       "      <td>0.150000</td>\n",
       "      <td>0.500000</td>\n",
       "      <td>0.250000</td>\n",
       "      <td>2800.000000</td>\n",
       "    </tr>\n",
       "    <tr>\n",
       "      <th>max</th>\n",
       "      <td>731.000000</td>\n",
       "      <td>23.000000</td>\n",
       "      <td>8474.000000</td>\n",
       "      <td>701.000000</td>\n",
       "      <td>1042.000000</td>\n",
       "      <td>650.000000</td>\n",
       "      <td>304.000000</td>\n",
       "      <td>116.000000</td>\n",
       "      <td>128.000000</td>\n",
       "      <td>91.000000</td>\n",
       "      <td>8.041534</td>\n",
       "      <td>10.000000</td>\n",
       "      <td>1.000000</td>\n",
       "      <td>1.000000</td>\n",
       "      <td>1.000000</td>\n",
       "      <td>1.000000</td>\n",
       "      <td>1.000000</td>\n",
       "      <td>1.000000</td>\n",
       "      <td>377.000000</td>\n",
       "      <td>298400.000000</td>\n",
       "      <td>42827.857143</td>\n",
       "      <td>843300.000000</td>\n",
       "      <td>843300.000000</td>\n",
       "      <td>843300.000000</td>\n",
       "      <td>3613.039819</td>\n",
       "      <td>298400.000000</td>\n",
       "      <td>43567.659946</td>\n",
       "      <td>843300.000000</td>\n",
       "      <td>843300.000000</td>\n",
       "      <td>843300.000000</td>\n",
       "      <td>1.000000</td>\n",
       "      <td>1.000000</td>\n",
       "      <td>1.000000</td>\n",
       "      <td>1.000000</td>\n",
       "      <td>1.000000</td>\n",
       "      <td>1.000000</td>\n",
       "      <td>1.000000</td>\n",
       "      <td>1.000000</td>\n",
       "      <td>0.926994</td>\n",
       "      <td>0.925947</td>\n",
       "      <td>0.919999</td>\n",
       "      <td>0.926534</td>\n",
       "      <td>0.927191</td>\n",
       "      <td>1.000000</td>\n",
       "      <td>0.727841</td>\n",
       "      <td>0.155488</td>\n",
       "      <td>0.184932</td>\n",
       "      <td>1.000000</td>\n",
       "      <td>1.000000</td>\n",
       "      <td>1.000000</td>\n",
       "      <td>1.000000</td>\n",
       "      <td>1.000000</td>\n",
       "      <td>0.000000</td>\n",
       "      <td>0.000000</td>\n",
       "      <td>0.000000</td>\n",
       "      <td>1.000000</td>\n",
       "      <td>1.000000</td>\n",
       "      <td>0.500000</td>\n",
       "      <td>1.000000</td>\n",
       "      <td>843300.000000</td>\n",
       "    </tr>\n",
       "  </tbody>\n",
       "</table>\n",
       "</div>"
      ],
      "text/plain": [
       "          timedelta  n_tokens_title  n_tokens_content  n_unique_tokens  \\\n",
       "count  39644.000000    39644.000000      39644.000000     39644.000000   \n",
       "mean     354.530471       10.398749        546.514731         0.548216   \n",
       "std      214.163767        2.114037        471.107508         3.520708   \n",
       "min        8.000000        2.000000          0.000000         0.000000   \n",
       "25%      164.000000        9.000000        246.000000         0.470870   \n",
       "50%      339.000000       10.000000        409.000000         0.539226   \n",
       "75%      542.000000       12.000000        716.000000         0.608696   \n",
       "max      731.000000       23.000000       8474.000000       701.000000   \n",
       "\n",
       "       n_non_stop_words  n_non_stop_unique_tokens     num_hrefs  \\\n",
       "count      39644.000000              39644.000000  39644.000000   \n",
       "mean           0.996469                  0.689175     10.883690   \n",
       "std            5.231231                  3.264816     11.332017   \n",
       "min            0.000000                  0.000000      0.000000   \n",
       "25%            1.000000                  0.625739      4.000000   \n",
       "50%            1.000000                  0.690476      8.000000   \n",
       "75%            1.000000                  0.754630     14.000000   \n",
       "max         1042.000000                650.000000    304.000000   \n",
       "\n",
       "       num_self_hrefs      num_imgs    num_videos  average_token_length  \\\n",
       "count    39644.000000  39643.000000  39642.000000          39644.000000   \n",
       "mean         3.293638      4.544257      1.249937              4.548239   \n",
       "std          3.855141      8.309507      4.107949              0.844406   \n",
       "min          0.000000      0.000000      0.000000              0.000000   \n",
       "25%          1.000000      1.000000      0.000000              4.478404   \n",
       "50%          3.000000      1.000000      0.000000              4.664082   \n",
       "75%          4.000000      4.000000      1.000000              4.854839   \n",
       "max        116.000000    128.000000     91.000000              8.041534   \n",
       "\n",
       "       num_keywords  data_channel_is_lifestyle  data_channel_is_entertainment  \\\n",
       "count  39644.000000               39644.000000                   39644.000000   \n",
       "mean       7.223767                   0.052946                       0.178009   \n",
       "std        1.909130                   0.223929                       0.382525   \n",
       "min        1.000000                   0.000000                       0.000000   \n",
       "25%        6.000000                   0.000000                       0.000000   \n",
       "50%        7.000000                   0.000000                       0.000000   \n",
       "75%        9.000000                   0.000000                       0.000000   \n",
       "max       10.000000                   1.000000                       1.000000   \n",
       "\n",
       "       data_channel_is_bus  data_channel_is_socmed  data_channel_is_tech  \\\n",
       "count         39644.000000            39644.000000          39644.000000   \n",
       "mean              0.157855                0.058597              0.185299   \n",
       "std               0.364610                0.234871              0.388545   \n",
       "min               0.000000                0.000000              0.000000   \n",
       "25%               0.000000                0.000000              0.000000   \n",
       "50%               0.000000                0.000000              0.000000   \n",
       "75%               0.000000                0.000000              0.000000   \n",
       "max               1.000000                1.000000              1.000000   \n",
       "\n",
       "       data_channel_is_world    kw_min_min     kw_max_min    kw_avg_min  \\\n",
       "count           39644.000000  39644.000000   39644.000000  39644.000000   \n",
       "mean                0.212567     26.106801    1153.951682    312.366967   \n",
       "std                 0.409129     69.633215    3857.990877    620.783887   \n",
       "min                 0.000000     -1.000000       0.000000     -1.000000   \n",
       "25%                 0.000000     -1.000000     445.000000    141.750000   \n",
       "50%                 0.000000     -1.000000     660.000000    235.500000   \n",
       "75%                 0.000000      4.000000    1000.000000    357.000000   \n",
       "max                 1.000000    377.000000  298400.000000  42827.857143   \n",
       "\n",
       "          kw_min_max     kw_max_max     kw_avg_max    kw_min_avg  \\\n",
       "count   39644.000000   39644.000000   39644.000000  39644.000000   \n",
       "mean    13612.354102  752324.066694  259281.938083   1117.146610   \n",
       "std     57986.029357  214502.129573  135102.247285   1137.456951   \n",
       "min         0.000000       0.000000       0.000000     -1.000000   \n",
       "25%         0.000000  843300.000000  172846.875000      0.000000   \n",
       "50%      1400.000000  843300.000000  244572.222223   1023.635611   \n",
       "75%      7900.000000  843300.000000  330980.000000   2056.781032   \n",
       "max    843300.000000  843300.000000  843300.000000   3613.039819   \n",
       "\n",
       "          kw_max_avg    kw_avg_avg  self_reference_min_shares  \\\n",
       "count   39644.000000  39644.000000               39644.000000   \n",
       "mean     5657.211151   3135.858639                3998.755396   \n",
       "std      6098.871957   1318.150397               19738.670516   \n",
       "min         0.000000      0.000000                   0.000000   \n",
       "25%      3562.101631   2382.448566                 639.000000   \n",
       "50%      4355.688836   2870.074878                1200.000000   \n",
       "75%      6019.953968   3600.229564                2600.000000   \n",
       "max    298400.000000  43567.659946              843300.000000   \n",
       "\n",
       "       self_reference_max_shares  self_reference_avg_sharess  \\\n",
       "count               39644.000000                39644.000000   \n",
       "mean                10329.212662                 6401.697580   \n",
       "std                 41027.576613                24211.332231   \n",
       "min                     0.000000                    0.000000   \n",
       "25%                  1100.000000                  981.187500   \n",
       "50%                  2800.000000                 2200.000000   \n",
       "75%                  8000.000000                 5200.000000   \n",
       "max                843300.000000               843300.000000   \n",
       "\n",
       "       weekday_is_monday  weekday_is_tuesday  weekday_is_wednesday  \\\n",
       "count       39644.000000        39644.000000          39644.000000   \n",
       "mean            0.168020            0.186409              0.187544   \n",
       "std             0.373889            0.389441              0.390353   \n",
       "min             0.000000            0.000000              0.000000   \n",
       "25%             0.000000            0.000000              0.000000   \n",
       "50%             0.000000            0.000000              0.000000   \n",
       "75%             0.000000            0.000000              0.000000   \n",
       "max             1.000000            1.000000              1.000000   \n",
       "\n",
       "       weekday_is_thursday  weekday_is_friday  weekday_is_saturday  \\\n",
       "count         39644.000000       39644.000000         39644.000000   \n",
       "mean              0.183306           0.143805             0.061876   \n",
       "std               0.386922           0.350896             0.240933   \n",
       "min               0.000000           0.000000             0.000000   \n",
       "25%               0.000000           0.000000             0.000000   \n",
       "50%               0.000000           0.000000             0.000000   \n",
       "75%               0.000000           0.000000             0.000000   \n",
       "max               1.000000           1.000000             1.000000   \n",
       "\n",
       "       weekday_is_sunday    is_weekend        LDA_00        LDA_01  \\\n",
       "count       39643.000000  39644.000000  39644.000000  39644.000000   \n",
       "mean            0.069041      0.130915      0.184599      0.141256   \n",
       "std             0.253527      0.337312      0.262975      0.219707   \n",
       "min             0.000000      0.000000      0.000000      0.000000   \n",
       "25%             0.000000      0.000000      0.025051      0.025012   \n",
       "50%             0.000000      0.000000      0.033387      0.033345   \n",
       "75%             0.000000      0.000000      0.240958      0.150831   \n",
       "max             1.000000      1.000000      0.926994      0.925947   \n",
       "\n",
       "             LDA_02        LDA_03        LDA_04  global_subjectivity  \\\n",
       "count  39644.000000  39644.000000  39644.000000         39644.000000   \n",
       "mean       0.216321      0.223770      0.234029             0.443370   \n",
       "std        0.282145      0.295191      0.289183             0.116685   \n",
       "min        0.000000      0.000000      0.000000             0.000000   \n",
       "25%        0.028571      0.028571      0.028574             0.396167   \n",
       "50%        0.040004      0.040001      0.040727             0.453457   \n",
       "75%        0.334218      0.375763      0.399986             0.508333   \n",
       "max        0.919999      0.926534      0.927191             1.000000   \n",
       "\n",
       "       global_sentiment_polarity  global_rate_positive_words  \\\n",
       "count               39644.000000                39644.000000   \n",
       "mean                    0.119309                    0.039625   \n",
       "std                     0.096931                    0.017429   \n",
       "min                    -0.393750                    0.000000   \n",
       "25%                     0.057757                    0.028384   \n",
       "50%                     0.119117                    0.039023   \n",
       "75%                     0.177832                    0.050279   \n",
       "max                     0.727841                    0.155488   \n",
       "\n",
       "       global_rate_negative_words  rate_positive_words  rate_negative_words  \\\n",
       "count                39644.000000         39644.000000         39644.000000   \n",
       "mean                     0.016612             0.682150             0.287934   \n",
       "std                      0.010828             0.190206             0.156156   \n",
       "min                      0.000000             0.000000             0.000000   \n",
       "25%                      0.009615             0.600000             0.185185   \n",
       "50%                      0.015337             0.710526             0.280000   \n",
       "75%                      0.021739             0.800000             0.384615   \n",
       "max                      0.184932             1.000000             1.000000   \n",
       "\n",
       "       avg_positive_polarity  min_positive_polarity  max_positive_polarity  \\\n",
       "count           39644.000000           39644.000000           39644.000000   \n",
       "mean                0.353825               0.095446               0.756728   \n",
       "std                 0.104542               0.071315               0.247786   \n",
       "min                 0.000000               0.000000               0.000000   \n",
       "25%                 0.306244               0.050000               0.600000   \n",
       "50%                 0.358755               0.100000               0.800000   \n",
       "75%                 0.411428               0.100000               1.000000   \n",
       "max                 1.000000               1.000000               1.000000   \n",
       "\n",
       "       avg_negative_polarity  min_negative_polarity  max_negative_polarity  \\\n",
       "count           39644.000000           39644.000000           39644.000000   \n",
       "mean               -0.259524              -0.521944              -0.107500   \n",
       "std                 0.127726               0.290290               0.095373   \n",
       "min                -1.000000              -1.000000              -1.000000   \n",
       "25%                -0.328383              -0.700000              -0.125000   \n",
       "50%                -0.253333              -0.500000              -0.100000   \n",
       "75%                -0.186905              -0.300000              -0.050000   \n",
       "max                 0.000000               0.000000               0.000000   \n",
       "\n",
       "       title_subjectivity  title_sentiment_polarity  abs_title_subjectivity  \\\n",
       "count        39644.000000              39644.000000            39644.000000   \n",
       "mean             0.282353                  0.071425                0.341843   \n",
       "std              0.324247                  0.265450                0.188791   \n",
       "min              0.000000                 -1.000000                0.000000   \n",
       "25%              0.000000                  0.000000                0.166667   \n",
       "50%              0.150000                  0.000000                0.500000   \n",
       "75%              0.500000                  0.150000                0.500000   \n",
       "max              1.000000                  1.000000                0.500000   \n",
       "\n",
       "       abs_title_sentiment_polarity         shares  \n",
       "count                  39644.000000   39643.000000  \n",
       "mean                       0.156064    3395.447822  \n",
       "std                        0.226294   11627.089598  \n",
       "min                        0.000000       1.000000  \n",
       "25%                        0.000000     946.000000  \n",
       "50%                        0.000000    1400.000000  \n",
       "75%                        0.250000    2800.000000  \n",
       "max                        1.000000  843300.000000  "
      ]
     },
     "execution_count": 23,
     "metadata": {},
     "output_type": "execute_result"
    }
   ],
   "source": [
    "online_news_popularity.describe()"
   ]
  },
  {
   "cell_type": "markdown",
   "id": "26fc62d5",
   "metadata": {
    "id": "_coy8d-TH2EV"
   },
   "source": [
    "The values of `url` are unique, ie if *n* is the number of samples then there are *n* different values of `url`. For this reason it is better to drop the features instead of applying the encoding."
   ]
  },
  {
   "cell_type": "code",
   "execution_count": 24,
   "id": "ceace42d",
   "metadata": {
    "execution": {
     "iopub.execute_input": "2022-01-05T09:48:29.232098Z",
     "iopub.status.busy": "2022-01-05T09:48:29.231849Z",
     "iopub.status.idle": "2022-01-05T09:48:29.262215Z",
     "shell.execute_reply": "2022-01-05T09:48:29.261177Z",
     "shell.execute_reply.started": "2022-01-05T09:48:29.232069Z"
    },
    "id": "N9rogJemwucY",
    "outputId": "beb4ab7b-e239-4d89-dad2-567ea30b5f3e"
   },
   "outputs": [
    {
     "data": {
      "text/plain": [
       "0"
      ]
     },
     "execution_count": 24,
     "metadata": {},
     "output_type": "execute_result"
    }
   ],
   "source": [
    "online_news_popularity[\"url\"].shape[0] - len(online_news_popularity[\"url\"].value_counts())"
   ]
  },
  {
   "cell_type": "code",
   "execution_count": 25,
   "id": "125f2473",
   "metadata": {
    "execution": {
     "iopub.execute_input": "2022-01-05T09:48:29.265761Z",
     "iopub.status.busy": "2022-01-05T09:48:29.265491Z",
     "iopub.status.idle": "2022-01-05T09:48:29.285852Z",
     "shell.execute_reply": "2022-01-05T09:48:29.285040Z",
     "shell.execute_reply.started": "2022-01-05T09:48:29.265730Z"
    },
    "id": "1qxbaShawucY"
   },
   "outputs": [],
   "source": [
    "onp = online_news_popularity.copy()\n",
    "onp = onp.drop('url', axis=1)"
   ]
  },
  {
   "cell_type": "markdown",
   "id": "7ac12ad1",
   "metadata": {
    "id": "_vDmqaPbwucY"
   },
   "source": [
    "I check the number and therefore the percentage of Missing Value present in the DataFrame."
   ]
  },
  {
   "cell_type": "code",
   "execution_count": 26,
   "id": "5d10bbaa",
   "metadata": {
    "execution": {
     "iopub.execute_input": "2022-01-05T09:48:29.287248Z",
     "iopub.status.busy": "2022-01-05T09:48:29.286945Z",
     "iopub.status.idle": "2022-01-05T09:48:29.304731Z",
     "shell.execute_reply": "2022-01-05T09:48:29.303939Z",
     "shell.execute_reply.started": "2022-01-05T09:48:29.287205Z"
    },
    "id": "HMsJI-BtwucY",
    "outputId": "6e6a6f24-6af4-4919-8883-09249aa50975"
   },
   "outputs": [
    {
     "name": "stdout",
     "output_type": "stream",
     "text": [
      "Number of Missing Value:  5\n",
      "Percentage of Missing Value:  0.012612249016244578 %\n"
     ]
    }
   ],
   "source": [
    "tot_nan = online_news_popularity.isna().sum().sum()\n",
    "print(\"Number of Missing Value: \", tot_nan)\n",
    "print(\"Percentage of Missing Value: \",(tot_nan * 100) / online_news_popularity.shape[0], \"%\")"
   ]
  },
  {
   "cell_type": "markdown",
   "id": "a4a2d7cf",
   "metadata": {
    "id": "twSwgrLwwucZ"
   },
   "source": [
    "When the number of missing values is less than 10% of the total number of samples (this case: 0,2%), then simply discard those values.\n",
    "On the other hand, if the number of missing values is about 20% of the total number of samples, it is convenient to impute these missing values."
   ]
  },
  {
   "cell_type": "code",
   "execution_count": 27,
   "id": "032460bb",
   "metadata": {
    "execution": {
     "iopub.execute_input": "2022-01-05T09:48:29.306169Z",
     "iopub.status.busy": "2022-01-05T09:48:29.305924Z",
     "iopub.status.idle": "2022-01-05T09:48:29.328504Z",
     "shell.execute_reply": "2022-01-05T09:48:29.327884Z",
     "shell.execute_reply.started": "2022-01-05T09:48:29.306140Z"
    },
    "id": "ovjz7jwzwucZ",
    "outputId": "2635ccb0-a823-4f69-bdaf-5857dbac1898"
   },
   "outputs": [
    {
     "data": {
      "text/plain": [
       "0"
      ]
     },
     "execution_count": 27,
     "metadata": {},
     "output_type": "execute_result"
    }
   ],
   "source": [
    "onp = onp.dropna(how=\"any\")\n",
    "\n",
    "onp.isna().sum().sum()"
   ]
  },
  {
   "cell_type": "markdown",
   "id": "f49210d6",
   "metadata": {
    "id": "pGC1hBWMwucZ"
   },
   "source": [
    "Check if there are duplicate lines."
   ]
  },
  {
   "cell_type": "code",
   "execution_count": 25,
   "id": "aed0a451",
   "metadata": {
    "execution": {
     "iopub.execute_input": "2022-01-05T09:48:29.624371Z",
     "iopub.status.busy": "2022-01-05T09:48:29.624123Z",
     "iopub.status.idle": "2022-01-05T09:48:29.729250Z",
     "shell.execute_reply": "2022-01-05T09:48:29.728430Z",
     "shell.execute_reply.started": "2022-01-05T09:48:29.624342Z"
    },
    "id": "jTPXnVDAwuca",
    "outputId": "f69ed28c-109a-4366-fcc3-611531d6569c"
   },
   "outputs": [
    {
     "name": "stdout",
     "output_type": "stream",
     "text": [
      "Old Shape:  (39639, 60)\n",
      "New Shape:  (39639, 60)\n"
     ]
    },
    {
     "data": {
      "text/plain": [
       "0"
      ]
     },
     "execution_count": 25,
     "metadata": {},
     "output_type": "execute_result"
    }
   ],
   "source": [
    "print(\"Old Shape: \", onp.shape)\n",
    "onp_bin = onp_bin.drop_duplicates()\n",
    "print(\"New Shape: \", onp.shape)\n",
    "\n",
    "onp_bin.isna().sum().sum()"
   ]
  },
  {
   "cell_type": "markdown",
   "id": "08e59f46",
   "metadata": {
    "id": "GSCP8yHxwuca"
   },
   "source": [
    "Now that I have cleaned the dataset I can move on to the preprocessing phase."
   ]
  },
  {
   "cell_type": "markdown",
   "id": "946ebf17",
   "metadata": {
    "id": "S2umdJL3wuca"
   },
   "source": [
    "#### Preprocessing"
   ]
  },
  {
   "cell_type": "markdown",
   "id": "2fc3f977",
   "metadata": {
    "id": "wv1QyQQowuca"
   },
   "source": [
    "The preprocessing phase is fundamental in Machine Learning, in fact, the data is rarely ready for use, it can contain typos, it can have missing values and also the data may not be normalized. We therefore need to do some preprocessing work to \"clean\" and normalize the data."
   ]
  },
  {
   "cell_type": "markdown",
   "id": "bc067ed4",
   "metadata": {
    "id": "72J2s5dfwuca"
   },
   "source": [
    "##### Discretization"
   ]
  },
  {
   "cell_type": "markdown",
   "id": "884fdc64",
   "metadata": {
    "id": "3dezuK8Ewuca"
   },
   "source": [
    "To simplify the problem I decided to discretize the target \"shares\" in 5 different classes (this is because the accuracy increases with a smaller number of classes as described on the paper), using the KBinsDiscretizer. I decided to use the \"quantile\" approach to make the features more balanced, even later I apply the SMOTE balance for completeness."
   ]
  },
  {
   "cell_type": "code",
   "execution_count": 26,
   "id": "96219471",
   "metadata": {
    "execution": {
     "iopub.execute_input": "2022-01-05T09:48:29.731088Z",
     "iopub.status.busy": "2022-01-05T09:48:29.730861Z",
     "iopub.status.idle": "2022-01-05T09:48:29.751336Z",
     "shell.execute_reply": "2022-01-05T09:48:29.750698Z",
     "shell.execute_reply.started": "2022-01-05T09:48:29.731061Z"
    },
    "id": "k4nDK5x2wucb",
    "outputId": "e3853625-de90-47f2-af26-3c249da320ce"
   },
   "outputs": [
    {
     "name": "stdout",
     "output_type": "stream",
     "text": [
      "2.0    8823\n",
      "4.0    8079\n",
      "3.0    8009\n",
      "0.0    7926\n",
      "1.0    6802\n",
      "Name: shares, dtype: int64\n"
     ]
    }
   ],
   "source": [
    "# DISCRETIZATION\n",
    "onp_disc = onp_bin.copy()\n",
    "est = preprocessing.KBinsDiscretizer(n_bins=5, encode='ordinal', strategy=\"quantile\")\n",
    "onp_disc[\"shares\"] = est.fit_transform(onp_disc[[\"shares\"]])\n",
    "\n",
    "print(onp_disc[\"shares\"].value_counts())"
   ]
  },
  {
   "cell_type": "markdown",
   "id": "ca495b0f",
   "metadata": {
    "id": "77nLm8rIwucb"
   },
   "source": [
    "##### Classes Balancement"
   ]
  },
  {
   "cell_type": "markdown",
   "id": "d26b81fa",
   "metadata": {
    "id": "VOYiW_Ktwucb"
   },
   "source": [
    "In this case 'Class 2' has a higher number of samples (8823), while the 'Class 1' has a smaller number of samples (6802).\n",
    "\n",
    "Therefore the class values equal to 2 correspond to the majority class, while all the others to the minority classes, thus obtaining a majority class and 4 minority classes.\n",
    "\n",
    "As mentioned above, to balance the classes I apply the SMOTE technique, that creates new instances of the minority class by forming a convex combination of the neighboring instances.\n",
    "This operation is really important because many algorithms suffer if the classes are not balanced."
   ]
  },
  {
   "cell_type": "code",
   "execution_count": 27,
   "id": "638aae01",
   "metadata": {
    "execution": {
     "iopub.execute_input": "2022-01-05T09:48:29.752378Z",
     "iopub.status.busy": "2022-01-05T09:48:29.752169Z",
     "iopub.status.idle": "2022-01-05T09:48:33.311242Z",
     "shell.execute_reply": "2022-01-05T09:48:33.310338Z",
     "shell.execute_reply.started": "2022-01-05T09:48:29.752353Z"
    },
    "id": "-YD9duYswucb",
    "outputId": "d918aa50-668d-4cfd-8501-74277d0a9f54"
   },
   "outputs": [
    {
     "data": {
      "text/plain": [
       "0.0    8823\n",
       "2.0    8823\n",
       "1.0    8823\n",
       "4.0    8823\n",
       "3.0    8823\n",
       "Name: shares, dtype: int64"
      ]
     },
     "execution_count": 27,
     "metadata": {},
     "output_type": "execute_result"
    }
   ],
   "source": [
    "# BALANCEMENT\n",
    "onp_upsampled = onp_disc.copy()\n",
    "\n",
    "X = onp_upsampled.loc[:, onp_upsampled.columns != 'shares']\n",
    "y = onp_upsampled['shares']\n",
    "\n",
    "smote_enc = SMOTE(random_state=0)\n",
    "X_res, y_res = smote_enc.fit_resample(X, y)\n",
    "\n",
    "onp_upsampled = pd.concat([pd.DataFrame(X_res), pd.DataFrame(y_res)], axis=1)\n",
    "onp_upsampled['shares'].value_counts()"
   ]
  },
  {
   "cell_type": "markdown",
   "id": "c8e144fa",
   "metadata": {
    "id": "W-UxQz5rKllp"
   },
   "source": [
    "Classes are now balanced."
   ]
  },
  {
   "cell_type": "markdown",
   "id": "7ee1d4fa",
   "metadata": {
    "id": "NSMxwPSvwucb"
   },
   "source": [
    "##### Scaling"
   ]
  },
  {
   "cell_type": "markdown",
   "id": "bad27c25",
   "metadata": {
    "id": "40l9zuvwwucc"
   },
   "source": [
    " Many algorithms in Machine Learning obtain better performance evaluation if data have a normal distribution and data are normalized, for example the SVM and Multi Layer Perceptron Newtworks models, while for other models such as DTC the data does not need to be scaled."
   ]
  },
  {
   "cell_type": "markdown",
   "id": "6c0e3f52",
   "metadata": {
    "id": "c1CL7JH_wucc"
   },
   "source": [
    "For the scaling phase there are several options to use, for example Standard scaling or Min/Max Scaling, but in this case I preferred to map the numerical features in a Gaussian distribution using QuantileTransformer() function, with *output_distribution = 'normal'*."
   ]
  },
  {
   "cell_type": "markdown",
   "id": "b4430af5",
   "metadata": {},
   "source": [
    "We will scale all features except the target.\n",
    "The most intuitive approach was to apply the splitting of the dataframe in X and y, before doing the scaling/normalization, but I do it later because initially I had decided to compare the model train with scaled/normalized and non-scaled data. However, as explained also in the final report for time reasons (due to the too long execution of the non-scaled data) I decided not to make this comparison."
   ]
  },
  {
   "cell_type": "code",
   "execution_count": 28,
   "id": "71b1a295",
   "metadata": {
    "execution": {
     "iopub.execute_input": "2022-01-05T09:48:33.312823Z",
     "iopub.status.busy": "2022-01-05T09:48:33.312595Z",
     "iopub.status.idle": "2022-01-05T09:48:34.386875Z",
     "shell.execute_reply": "2022-01-05T09:48:34.386060Z",
     "shell.execute_reply.started": "2022-01-05T09:48:33.312796Z"
    },
    "id": "FA61xH5Xwucc",
    "outputId": "d7de34b2-1c95-4dd6-afe7-f955ca8738a1"
   },
   "outputs": [
    {
     "data": {
      "image/png": "[encoded data removed]",
      "text/plain": [
       "<Figure size 432x288 with 1 Axes>"
      ]
     },
     "metadata": {
      "needs_background": "light"
     },
     "output_type": "display_data"
    },
    {
     "data": {
      "image/png": "[encoded data removed]",
      "text/plain": [
       "<Figure size 432x288 with 1 Axes>"
      ]
     },
     "metadata": {
      "needs_background": "light"
     },
     "output_type": "display_data"
    }
   ],
   "source": [
    "# SCALE\n",
    "onp_scaled = onp_upsampled.copy()\n",
    "\n",
    "quantile_transformer = preprocessing.QuantileTransformer(random_state=0,n_quantiles=112, output_distribution='normal')\n",
    "\n",
    "plt.hist(onp_scaled[\"n_tokens_content\"])\n",
    "plt.title('n_tokens_content - Before scaling')\n",
    "plt.show()\n",
    "\n",
    "\n",
    "for el in onp_scaled.columns:\n",
    "    if el != 'shares':\n",
    "        # We can't pass a 1D array to normalize()\n",
    "        # We apply reshape \n",
    "        reshape = onp_scaled[el].values.reshape(-1,1)\n",
    "        onp_scaled[el] = quantile_transformer.fit_transform(reshape)\n",
    "\n",
    "plt.hist(onp_scaled[\"n_tokens_content\"])\n",
    "plt.title('n_tokens_content - After scaling')\n",
    "plt.show()"
   ]
  },
  {
   "cell_type": "markdown",
   "id": "95de0cbb",
   "metadata": {
    "id": "Q40xZkp_wucc"
   },
   "source": [
    "##### Normalization"
   ]
  },
  {
   "cell_type": "markdown",
   "id": "00347ad1",
   "metadata": {
    "id": "e89VDV7nwucc"
   },
   "source": [
    "The Normalization phase is used to have a unit norm, there are two possible options which are <i> l1 norm </i> or <i> l2 norm </i>, in this case I decided to normalize the features using <i> l2 norm </i>."
   ]
  },
  {
   "cell_type": "code",
   "execution_count": 29,
   "id": "cd0ef19a",
   "metadata": {
    "execution": {
     "iopub.execute_input": "2022-01-05T09:48:34.388491Z",
     "iopub.status.busy": "2022-01-05T09:48:34.388255Z",
     "iopub.status.idle": "2022-01-05T09:48:34.439899Z",
     "shell.execute_reply": "2022-01-05T09:48:34.439050Z",
     "shell.execute_reply.started": "2022-01-05T09:48:34.388461Z"
    },
    "id": "8BFPW-Ovwucd",
    "outputId": "a25337db-4c9c-42f9-c135-9e63277e043e"
   },
   "outputs": [
    {
     "name": "stdout",
     "output_type": "stream",
     "text": [
      "Before Normalization: \n",
      " 0       -0.853480\n",
      "1       -0.650584\n",
      "2       -0.901039\n",
      "3        0.309743\n",
      "4        1.272302\n",
      "           ...   \n",
      "44110    0.363235\n",
      "44111   -0.029651\n",
      "44112   -0.506302\n",
      "44113    0.915635\n",
      "44114   -0.694001\n",
      "Name: n_tokens_content, Length: 44115, dtype: float64\n",
      "After Normalization: \n",
      " 0       -0.003238\n",
      "1       -0.002468\n",
      "2       -0.003418\n",
      "3        0.001175\n",
      "4        0.004826\n",
      "           ...   \n",
      "44110    0.001378\n",
      "44111   -0.000112\n",
      "44112   -0.001921\n",
      "44113    0.003473\n",
      "44114   -0.002633\n",
      "Name: n_tokens_content, Length: 44115, dtype: float64\n"
     ]
    }
   ],
   "source": [
    "# NORMALIZE\n",
    "onp_norm = onp_scaled.copy()\n",
    "\n",
    "print(\"Before Normalization: \\n\", onp_norm['n_tokens_content'])\n",
    "\n",
    "for el in onp_norm.columns:\n",
    "    if el != 'shares':\n",
    "        # We can't pass a 1D array to normalize()\n",
    "        # We apply reshape \n",
    "        reshape = onp_norm[el].values.reshape(-1,1)\n",
    "        onp_norm[el] = preprocessing.normalize([onp_norm[el]], norm='l2')[0]\n",
    "\n",
    "print(\"After Normalization: \\n\", onp_norm['n_tokens_content'])"
   ]
  },
  {
   "cell_type": "markdown",
   "id": "221b5f99",
   "metadata": {
    "id": "SnZawO3awucd"
   },
   "source": [
    "##### Traininig and Test data splitting"
   ]
  },
  {
   "cell_type": "markdown",
   "id": "00b1365d",
   "metadata": {
    "id": "1fYRKZGkwucd"
   },
   "source": [
    "After scaling and normalizing the dataset, I split it into two parts, the training set and the test set, where the training set contains 70% of the normalized, scaled, and class-balanced dataset samples and the test set contains the remaining 30%."
   ]
  },
  {
   "cell_type": "code",
   "execution_count": 30,
   "id": "7e6cceba",
   "metadata": {
    "execution": {
     "iopub.execute_input": "2022-01-05T09:48:34.441902Z",
     "iopub.status.busy": "2022-01-05T09:48:34.441428Z",
     "iopub.status.idle": "2022-01-05T09:48:34.486337Z",
     "shell.execute_reply": "2022-01-05T09:48:34.485577Z",
     "shell.execute_reply.started": "2022-01-05T09:48:34.441861Z"
    },
    "id": "cm9n8tqAwucd"
   },
   "outputs": [],
   "source": [
    "# SPLIT\n",
    "onp_better = onp_norm.copy()\n",
    "y = onp_better['shares']\n",
    "X = onp_better.drop('shares', axis=1)\n",
    "\n",
    "X_train, X_test, y_train, y_test = train_test_split(X, y, test_size=0.3, random_state = 112)"
   ]
  },
  {
   "cell_type": "markdown",
   "id": "2dabc64c",
   "metadata": {
    "id": "qTdH2ooXwucd"
   },
   "source": [
    "## 2.2 Dataset Analysis (up to 1 of 11.2 points)\n",
    "In the following code cell (feel free to create new cells), remember to comment your code snippets:\n",
    "\n",
    "1) Print the total number of samples;\n",
    "\n",
    "2) Print a table with the first 15 samples;\n",
    "\n",
    "3) Plot the histogram distribution of \"shares\";\n",
    "\n",
    "4) A bar chart counting the attributes:  data_channel_is_lifestyle, data_channel_is_entertainment, data_channel_is_bus, data_channel_is_socmed, data_channel_is_tech, data_channel_is_world;\n",
    "\n"
   ]
  },
  {
   "cell_type": "code",
   "execution_count": 31,
   "id": "4eaceb09",
   "metadata": {
    "execution": {
     "iopub.execute_input": "2022-01-05T09:48:34.488335Z",
     "iopub.status.busy": "2022-01-05T09:48:34.487829Z",
     "iopub.status.idle": "2022-01-05T09:48:34.494725Z",
     "shell.execute_reply": "2022-01-05T09:48:34.493811Z",
     "shell.execute_reply.started": "2022-01-05T09:48:34.488291Z"
    },
    "id": "fo-yP2nJwuce",
    "outputId": "9810d103-0a8d-4860-c8ec-b84ba443528c"
   },
   "outputs": [
    {
     "name": "stdout",
     "output_type": "stream",
     "text": [
      "Shape:  (39644, 61)\n",
      "Total Samples:  39644\n"
     ]
    }
   ],
   "source": [
    "# 1) Print the total number of samples;\n",
    "print(\"Shape: \", online_news_popularity.shape)\n",
    "print(\"Total Samples: \", len(online_news_popularity.index))"
   ]
  },
  {
   "cell_type": "code",
   "execution_count": 32,
   "id": "d4a3609c",
   "metadata": {
    "execution": {
     "iopub.execute_input": "2022-01-05T09:48:34.496573Z",
     "iopub.status.busy": "2022-01-05T09:48:34.495859Z",
     "iopub.status.idle": "2022-01-05T09:48:34.618374Z",
     "shell.execute_reply": "2022-01-05T09:48:34.617537Z",
     "shell.execute_reply.started": "2022-01-05T09:48:34.496542Z"
    },
    "id": "x6mZ82f0wuce",
    "outputId": "f0d774c7-abde-4996-f647-322425b0f0ff"
   },
   "outputs": [
    {
     "data": {
      "text/html": [
       "<div>\n",
       "<style scoped>\n",
       "    .dataframe tbody tr th:only-of-type {\n",
       "        vertical-align: middle;\n",
       "    }\n",
       "\n",
       "    .dataframe tbody tr th {\n",
       "        vertical-align: top;\n",
       "    }\n",
       "\n",
       "    .dataframe thead th {\n",
       "        text-align: right;\n",
       "    }\n",
       "</style>\n",
       "<table border=\"1\" class=\"dataframe\">\n",
       "  <thead>\n",
       "    <tr style=\"text-align: right;\">\n",
       "      <th></th>\n",
       "      <th>url</th>\n",
       "      <th>timedelta</th>\n",
       "      <th>n_tokens_title</th>\n",
       "      <th>n_tokens_content</th>\n",
       "      <th>n_unique_tokens</th>\n",
       "      <th>n_non_stop_words</th>\n",
       "      <th>n_non_stop_unique_tokens</th>\n",
       "      <th>num_hrefs</th>\n",
       "      <th>num_self_hrefs</th>\n",
       "      <th>num_imgs</th>\n",
       "      <th>num_videos</th>\n",
       "      <th>average_token_length</th>\n",
       "      <th>num_keywords</th>\n",
       "      <th>data_channel_is_lifestyle</th>\n",
       "      <th>data_channel_is_entertainment</th>\n",
       "      <th>data_channel_is_bus</th>\n",
       "      <th>data_channel_is_socmed</th>\n",
       "      <th>data_channel_is_tech</th>\n",
       "      <th>data_channel_is_world</th>\n",
       "      <th>kw_min_min</th>\n",
       "      <th>kw_max_min</th>\n",
       "      <th>kw_avg_min</th>\n",
       "      <th>kw_min_max</th>\n",
       "      <th>kw_max_max</th>\n",
       "      <th>kw_avg_max</th>\n",
       "      <th>kw_min_avg</th>\n",
       "      <th>kw_max_avg</th>\n",
       "      <th>kw_avg_avg</th>\n",
       "      <th>self_reference_min_shares</th>\n",
       "      <th>self_reference_max_shares</th>\n",
       "      <th>self_reference_avg_sharess</th>\n",
       "      <th>weekday_is_monday</th>\n",
       "      <th>weekday_is_tuesday</th>\n",
       "      <th>weekday_is_wednesday</th>\n",
       "      <th>weekday_is_thursday</th>\n",
       "      <th>weekday_is_friday</th>\n",
       "      <th>weekday_is_saturday</th>\n",
       "      <th>weekday_is_sunday</th>\n",
       "      <th>is_weekend</th>\n",
       "      <th>LDA_00</th>\n",
       "      <th>LDA_01</th>\n",
       "      <th>LDA_02</th>\n",
       "      <th>LDA_03</th>\n",
       "      <th>LDA_04</th>\n",
       "      <th>global_subjectivity</th>\n",
       "      <th>global_sentiment_polarity</th>\n",
       "      <th>global_rate_positive_words</th>\n",
       "      <th>global_rate_negative_words</th>\n",
       "      <th>rate_positive_words</th>\n",
       "      <th>rate_negative_words</th>\n",
       "      <th>avg_positive_polarity</th>\n",
       "      <th>min_positive_polarity</th>\n",
       "      <th>max_positive_polarity</th>\n",
       "      <th>avg_negative_polarity</th>\n",
       "      <th>min_negative_polarity</th>\n",
       "      <th>max_negative_polarity</th>\n",
       "      <th>title_subjectivity</th>\n",
       "      <th>title_sentiment_polarity</th>\n",
       "      <th>abs_title_subjectivity</th>\n",
       "      <th>abs_title_sentiment_polarity</th>\n",
       "      <th>shares</th>\n",
       "    </tr>\n",
       "  </thead>\n",
       "  <tbody>\n",
       "    <tr>\n",
       "      <th>0</th>\n",
       "      <td>http://mashable.com/2013/01/07/amazon-instant-...</td>\n",
       "      <td>731.0</td>\n",
       "      <td>12.0</td>\n",
       "      <td>219.0</td>\n",
       "      <td>0.663594</td>\n",
       "      <td>1.0</td>\n",
       "      <td>0.815385</td>\n",
       "      <td>4.0</td>\n",
       "      <td>2.0</td>\n",
       "      <td>1.0</td>\n",
       "      <td>0.0</td>\n",
       "      <td>4.680365</td>\n",
       "      <td>5.0</td>\n",
       "      <td>0.0</td>\n",
       "      <td>1.0</td>\n",
       "      <td>0.0</td>\n",
       "      <td>0.0</td>\n",
       "      <td>0.0</td>\n",
       "      <td>0.0</td>\n",
       "      <td>0.0</td>\n",
       "      <td>0.0</td>\n",
       "      <td>0.0</td>\n",
       "      <td>0.0</td>\n",
       "      <td>0.0</td>\n",
       "      <td>0.0</td>\n",
       "      <td>0.0</td>\n",
       "      <td>0.0</td>\n",
       "      <td>0.0</td>\n",
       "      <td>496.0</td>\n",
       "      <td>496.0</td>\n",
       "      <td>496.000000</td>\n",
       "      <td>1.0</td>\n",
       "      <td>0.0</td>\n",
       "      <td>0.0</td>\n",
       "      <td>0.0</td>\n",
       "      <td>0.0</td>\n",
       "      <td>0.0</td>\n",
       "      <td>0.0</td>\n",
       "      <td>0.0</td>\n",
       "      <td>0.500331</td>\n",
       "      <td>0.378279</td>\n",
       "      <td>0.040005</td>\n",
       "      <td>0.041263</td>\n",
       "      <td>0.040123</td>\n",
       "      <td>0.521617</td>\n",
       "      <td>0.092562</td>\n",
       "      <td>0.045662</td>\n",
       "      <td>0.013699</td>\n",
       "      <td>0.769231</td>\n",
       "      <td>0.230769</td>\n",
       "      <td>0.378636</td>\n",
       "      <td>0.100000</td>\n",
       "      <td>0.7</td>\n",
       "      <td>-0.350000</td>\n",
       "      <td>-0.6000</td>\n",
       "      <td>-0.200000</td>\n",
       "      <td>0.500000</td>\n",
       "      <td>-0.187500</td>\n",
       "      <td>0.000000</td>\n",
       "      <td>0.187500</td>\n",
       "      <td>593.0</td>\n",
       "    </tr>\n",
       "    <tr>\n",
       "      <th>1</th>\n",
       "      <td>http://mashable.com/2013/01/07/ap-samsung-spon...</td>\n",
       "      <td>731.0</td>\n",
       "      <td>9.0</td>\n",
       "      <td>255.0</td>\n",
       "      <td>0.604743</td>\n",
       "      <td>1.0</td>\n",
       "      <td>0.791946</td>\n",
       "      <td>3.0</td>\n",
       "      <td>1.0</td>\n",
       "      <td>1.0</td>\n",
       "      <td>0.0</td>\n",
       "      <td>4.913725</td>\n",
       "      <td>4.0</td>\n",
       "      <td>0.0</td>\n",
       "      <td>0.0</td>\n",
       "      <td>1.0</td>\n",
       "      <td>0.0</td>\n",
       "      <td>0.0</td>\n",
       "      <td>0.0</td>\n",
       "      <td>0.0</td>\n",
       "      <td>0.0</td>\n",
       "      <td>0.0</td>\n",
       "      <td>0.0</td>\n",
       "      <td>0.0</td>\n",
       "      <td>0.0</td>\n",
       "      <td>0.0</td>\n",
       "      <td>0.0</td>\n",
       "      <td>0.0</td>\n",
       "      <td>0.0</td>\n",
       "      <td>0.0</td>\n",
       "      <td>0.000000</td>\n",
       "      <td>1.0</td>\n",
       "      <td>0.0</td>\n",
       "      <td>0.0</td>\n",
       "      <td>0.0</td>\n",
       "      <td>0.0</td>\n",
       "      <td>0.0</td>\n",
       "      <td>0.0</td>\n",
       "      <td>0.0</td>\n",
       "      <td>0.799756</td>\n",
       "      <td>0.050047</td>\n",
       "      <td>0.050096</td>\n",
       "      <td>0.050101</td>\n",
       "      <td>0.050001</td>\n",
       "      <td>0.341246</td>\n",
       "      <td>0.148948</td>\n",
       "      <td>0.043137</td>\n",
       "      <td>0.015686</td>\n",
       "      <td>0.733333</td>\n",
       "      <td>0.266667</td>\n",
       "      <td>0.286915</td>\n",
       "      <td>0.033333</td>\n",
       "      <td>0.7</td>\n",
       "      <td>-0.118750</td>\n",
       "      <td>-0.1250</td>\n",
       "      <td>-0.100000</td>\n",
       "      <td>0.000000</td>\n",
       "      <td>0.000000</td>\n",
       "      <td>0.500000</td>\n",
       "      <td>0.000000</td>\n",
       "      <td>711.0</td>\n",
       "    </tr>\n",
       "    <tr>\n",
       "      <th>2</th>\n",
       "      <td>http://mashable.com/2013/01/07/apple-40-billio...</td>\n",
       "      <td>731.0</td>\n",
       "      <td>9.0</td>\n",
       "      <td>211.0</td>\n",
       "      <td>0.575130</td>\n",
       "      <td>1.0</td>\n",
       "      <td>0.663866</td>\n",
       "      <td>3.0</td>\n",
       "      <td>1.0</td>\n",
       "      <td>1.0</td>\n",
       "      <td>0.0</td>\n",
       "      <td>4.393365</td>\n",
       "      <td>6.0</td>\n",
       "      <td>0.0</td>\n",
       "      <td>0.0</td>\n",
       "      <td>1.0</td>\n",
       "      <td>0.0</td>\n",
       "      <td>0.0</td>\n",
       "      <td>0.0</td>\n",
       "      <td>0.0</td>\n",
       "      <td>0.0</td>\n",
       "      <td>0.0</td>\n",
       "      <td>0.0</td>\n",
       "      <td>0.0</td>\n",
       "      <td>0.0</td>\n",
       "      <td>0.0</td>\n",
       "      <td>0.0</td>\n",
       "      <td>0.0</td>\n",
       "      <td>918.0</td>\n",
       "      <td>918.0</td>\n",
       "      <td>918.000000</td>\n",
       "      <td>1.0</td>\n",
       "      <td>0.0</td>\n",
       "      <td>0.0</td>\n",
       "      <td>0.0</td>\n",
       "      <td>0.0</td>\n",
       "      <td>0.0</td>\n",
       "      <td>0.0</td>\n",
       "      <td>0.0</td>\n",
       "      <td>0.217792</td>\n",
       "      <td>0.033334</td>\n",
       "      <td>0.033351</td>\n",
       "      <td>0.033334</td>\n",
       "      <td>0.682188</td>\n",
       "      <td>0.702222</td>\n",
       "      <td>0.323333</td>\n",
       "      <td>0.056872</td>\n",
       "      <td>0.009479</td>\n",
       "      <td>0.857143</td>\n",
       "      <td>0.142857</td>\n",
       "      <td>0.495833</td>\n",
       "      <td>0.100000</td>\n",
       "      <td>1.0</td>\n",
       "      <td>-0.466667</td>\n",
       "      <td>-0.8000</td>\n",
       "      <td>-0.133333</td>\n",
       "      <td>0.000000</td>\n",
       "      <td>0.000000</td>\n",
       "      <td>0.500000</td>\n",
       "      <td>0.000000</td>\n",
       "      <td>1500.0</td>\n",
       "    </tr>\n",
       "    <tr>\n",
       "      <th>3</th>\n",
       "      <td>http://mashable.com/2013/01/07/astronaut-notre...</td>\n",
       "      <td>731.0</td>\n",
       "      <td>9.0</td>\n",
       "      <td>531.0</td>\n",
       "      <td>0.503788</td>\n",
       "      <td>1.0</td>\n",
       "      <td>0.665635</td>\n",
       "      <td>9.0</td>\n",
       "      <td>0.0</td>\n",
       "      <td>1.0</td>\n",
       "      <td>0.0</td>\n",
       "      <td>4.404896</td>\n",
       "      <td>7.0</td>\n",
       "      <td>0.0</td>\n",
       "      <td>1.0</td>\n",
       "      <td>0.0</td>\n",
       "      <td>0.0</td>\n",
       "      <td>0.0</td>\n",
       "      <td>0.0</td>\n",
       "      <td>0.0</td>\n",
       "      <td>0.0</td>\n",
       "      <td>0.0</td>\n",
       "      <td>0.0</td>\n",
       "      <td>0.0</td>\n",
       "      <td>0.0</td>\n",
       "      <td>0.0</td>\n",
       "      <td>0.0</td>\n",
       "      <td>0.0</td>\n",
       "      <td>0.0</td>\n",
       "      <td>0.0</td>\n",
       "      <td>0.000000</td>\n",
       "      <td>1.0</td>\n",
       "      <td>0.0</td>\n",
       "      <td>0.0</td>\n",
       "      <td>0.0</td>\n",
       "      <td>0.0</td>\n",
       "      <td>0.0</td>\n",
       "      <td>0.0</td>\n",
       "      <td>0.0</td>\n",
       "      <td>0.028573</td>\n",
       "      <td>0.419300</td>\n",
       "      <td>0.494651</td>\n",
       "      <td>0.028905</td>\n",
       "      <td>0.028572</td>\n",
       "      <td>0.429850</td>\n",
       "      <td>0.100705</td>\n",
       "      <td>0.041431</td>\n",
       "      <td>0.020716</td>\n",
       "      <td>0.666667</td>\n",
       "      <td>0.333333</td>\n",
       "      <td>0.385965</td>\n",
       "      <td>0.136364</td>\n",
       "      <td>0.8</td>\n",
       "      <td>-0.369697</td>\n",
       "      <td>-0.6000</td>\n",
       "      <td>-0.166667</td>\n",
       "      <td>0.000000</td>\n",
       "      <td>0.000000</td>\n",
       "      <td>0.500000</td>\n",
       "      <td>0.000000</td>\n",
       "      <td>1200.0</td>\n",
       "    </tr>\n",
       "    <tr>\n",
       "      <th>4</th>\n",
       "      <td>http://mashable.com/2013/01/07/att-u-verse-apps/</td>\n",
       "      <td>731.0</td>\n",
       "      <td>13.0</td>\n",
       "      <td>1072.0</td>\n",
       "      <td>0.415646</td>\n",
       "      <td>1.0</td>\n",
       "      <td>0.540890</td>\n",
       "      <td>19.0</td>\n",
       "      <td>19.0</td>\n",
       "      <td>20.0</td>\n",
       "      <td>0.0</td>\n",
       "      <td>4.682836</td>\n",
       "      <td>7.0</td>\n",
       "      <td>0.0</td>\n",
       "      <td>0.0</td>\n",
       "      <td>0.0</td>\n",
       "      <td>0.0</td>\n",
       "      <td>1.0</td>\n",
       "      <td>0.0</td>\n",
       "      <td>0.0</td>\n",
       "      <td>0.0</td>\n",
       "      <td>0.0</td>\n",
       "      <td>0.0</td>\n",
       "      <td>0.0</td>\n",
       "      <td>0.0</td>\n",
       "      <td>0.0</td>\n",
       "      <td>0.0</td>\n",
       "      <td>0.0</td>\n",
       "      <td>545.0</td>\n",
       "      <td>16000.0</td>\n",
       "      <td>3151.157895</td>\n",
       "      <td>1.0</td>\n",
       "      <td>0.0</td>\n",
       "      <td>0.0</td>\n",
       "      <td>0.0</td>\n",
       "      <td>0.0</td>\n",
       "      <td>0.0</td>\n",
       "      <td>0.0</td>\n",
       "      <td>0.0</td>\n",
       "      <td>0.028633</td>\n",
       "      <td>0.028794</td>\n",
       "      <td>0.028575</td>\n",
       "      <td>0.028572</td>\n",
       "      <td>0.885427</td>\n",
       "      <td>0.513502</td>\n",
       "      <td>0.281003</td>\n",
       "      <td>0.074627</td>\n",
       "      <td>0.012127</td>\n",
       "      <td>0.860215</td>\n",
       "      <td>0.139785</td>\n",
       "      <td>0.411127</td>\n",
       "      <td>0.033333</td>\n",
       "      <td>1.0</td>\n",
       "      <td>-0.220192</td>\n",
       "      <td>-0.5000</td>\n",
       "      <td>-0.050000</td>\n",
       "      <td>0.454545</td>\n",
       "      <td>0.136364</td>\n",
       "      <td>0.045455</td>\n",
       "      <td>0.136364</td>\n",
       "      <td>505.0</td>\n",
       "    </tr>\n",
       "    <tr>\n",
       "      <th>5</th>\n",
       "      <td>http://mashable.com/2013/01/07/beewi-smart-toys/</td>\n",
       "      <td>731.0</td>\n",
       "      <td>10.0</td>\n",
       "      <td>370.0</td>\n",
       "      <td>0.559889</td>\n",
       "      <td>1.0</td>\n",
       "      <td>0.698198</td>\n",
       "      <td>2.0</td>\n",
       "      <td>2.0</td>\n",
       "      <td>0.0</td>\n",
       "      <td>0.0</td>\n",
       "      <td>4.359459</td>\n",
       "      <td>9.0</td>\n",
       "      <td>0.0</td>\n",
       "      <td>0.0</td>\n",
       "      <td>0.0</td>\n",
       "      <td>0.0</td>\n",
       "      <td>1.0</td>\n",
       "      <td>0.0</td>\n",
       "      <td>0.0</td>\n",
       "      <td>0.0</td>\n",
       "      <td>0.0</td>\n",
       "      <td>0.0</td>\n",
       "      <td>0.0</td>\n",
       "      <td>0.0</td>\n",
       "      <td>0.0</td>\n",
       "      <td>0.0</td>\n",
       "      <td>0.0</td>\n",
       "      <td>8500.0</td>\n",
       "      <td>8500.0</td>\n",
       "      <td>8500.000000</td>\n",
       "      <td>1.0</td>\n",
       "      <td>0.0</td>\n",
       "      <td>0.0</td>\n",
       "      <td>0.0</td>\n",
       "      <td>0.0</td>\n",
       "      <td>0.0</td>\n",
       "      <td>0.0</td>\n",
       "      <td>0.0</td>\n",
       "      <td>0.022245</td>\n",
       "      <td>0.306718</td>\n",
       "      <td>0.022231</td>\n",
       "      <td>0.022224</td>\n",
       "      <td>0.626582</td>\n",
       "      <td>0.437409</td>\n",
       "      <td>0.071184</td>\n",
       "      <td>0.029730</td>\n",
       "      <td>0.027027</td>\n",
       "      <td>0.523810</td>\n",
       "      <td>0.476190</td>\n",
       "      <td>0.350610</td>\n",
       "      <td>0.136364</td>\n",
       "      <td>0.6</td>\n",
       "      <td>-0.195000</td>\n",
       "      <td>-0.4000</td>\n",
       "      <td>-0.100000</td>\n",
       "      <td>0.642857</td>\n",
       "      <td>0.214286</td>\n",
       "      <td>0.142857</td>\n",
       "      <td>0.214286</td>\n",
       "      <td>855.0</td>\n",
       "    </tr>\n",
       "    <tr>\n",
       "      <th>6</th>\n",
       "      <td>http://mashable.com/2013/01/07/bodymedia-armba...</td>\n",
       "      <td>731.0</td>\n",
       "      <td>8.0</td>\n",
       "      <td>960.0</td>\n",
       "      <td>0.418163</td>\n",
       "      <td>1.0</td>\n",
       "      <td>0.549834</td>\n",
       "      <td>21.0</td>\n",
       "      <td>20.0</td>\n",
       "      <td>20.0</td>\n",
       "      <td>0.0</td>\n",
       "      <td>4.654167</td>\n",
       "      <td>10.0</td>\n",
       "      <td>1.0</td>\n",
       "      <td>0.0</td>\n",
       "      <td>0.0</td>\n",
       "      <td>0.0</td>\n",
       "      <td>0.0</td>\n",
       "      <td>0.0</td>\n",
       "      <td>0.0</td>\n",
       "      <td>0.0</td>\n",
       "      <td>0.0</td>\n",
       "      <td>0.0</td>\n",
       "      <td>0.0</td>\n",
       "      <td>0.0</td>\n",
       "      <td>0.0</td>\n",
       "      <td>0.0</td>\n",
       "      <td>0.0</td>\n",
       "      <td>545.0</td>\n",
       "      <td>16000.0</td>\n",
       "      <td>3151.157895</td>\n",
       "      <td>1.0</td>\n",
       "      <td>0.0</td>\n",
       "      <td>0.0</td>\n",
       "      <td>0.0</td>\n",
       "      <td>0.0</td>\n",
       "      <td>0.0</td>\n",
       "      <td>0.0</td>\n",
       "      <td>0.0</td>\n",
       "      <td>0.020082</td>\n",
       "      <td>0.114705</td>\n",
       "      <td>0.020024</td>\n",
       "      <td>0.020015</td>\n",
       "      <td>0.825173</td>\n",
       "      <td>0.514480</td>\n",
       "      <td>0.268303</td>\n",
       "      <td>0.080208</td>\n",
       "      <td>0.016667</td>\n",
       "      <td>0.827957</td>\n",
       "      <td>0.172043</td>\n",
       "      <td>0.402039</td>\n",
       "      <td>0.100000</td>\n",
       "      <td>1.0</td>\n",
       "      <td>-0.224479</td>\n",
       "      <td>-0.5000</td>\n",
       "      <td>-0.050000</td>\n",
       "      <td>0.000000</td>\n",
       "      <td>0.000000</td>\n",
       "      <td>0.500000</td>\n",
       "      <td>0.000000</td>\n",
       "      <td>556.0</td>\n",
       "    </tr>\n",
       "    <tr>\n",
       "      <th>7</th>\n",
       "      <td>http://mashable.com/2013/01/07/canon-poweshot-n/</td>\n",
       "      <td>731.0</td>\n",
       "      <td>12.0</td>\n",
       "      <td>989.0</td>\n",
       "      <td>0.433574</td>\n",
       "      <td>1.0</td>\n",
       "      <td>0.572108</td>\n",
       "      <td>20.0</td>\n",
       "      <td>20.0</td>\n",
       "      <td>20.0</td>\n",
       "      <td>0.0</td>\n",
       "      <td>4.617796</td>\n",
       "      <td>9.0</td>\n",
       "      <td>0.0</td>\n",
       "      <td>0.0</td>\n",
       "      <td>0.0</td>\n",
       "      <td>0.0</td>\n",
       "      <td>1.0</td>\n",
       "      <td>0.0</td>\n",
       "      <td>0.0</td>\n",
       "      <td>0.0</td>\n",
       "      <td>0.0</td>\n",
       "      <td>0.0</td>\n",
       "      <td>0.0</td>\n",
       "      <td>0.0</td>\n",
       "      <td>0.0</td>\n",
       "      <td>0.0</td>\n",
       "      <td>0.0</td>\n",
       "      <td>545.0</td>\n",
       "      <td>16000.0</td>\n",
       "      <td>3151.157895</td>\n",
       "      <td>1.0</td>\n",
       "      <td>0.0</td>\n",
       "      <td>0.0</td>\n",
       "      <td>0.0</td>\n",
       "      <td>0.0</td>\n",
       "      <td>0.0</td>\n",
       "      <td>0.0</td>\n",
       "      <td>0.0</td>\n",
       "      <td>0.022224</td>\n",
       "      <td>0.150733</td>\n",
       "      <td>0.243435</td>\n",
       "      <td>0.022224</td>\n",
       "      <td>0.561384</td>\n",
       "      <td>0.543474</td>\n",
       "      <td>0.298613</td>\n",
       "      <td>0.083923</td>\n",
       "      <td>0.015167</td>\n",
       "      <td>0.846939</td>\n",
       "      <td>0.153061</td>\n",
       "      <td>0.427720</td>\n",
       "      <td>0.100000</td>\n",
       "      <td>1.0</td>\n",
       "      <td>-0.242778</td>\n",
       "      <td>-0.5000</td>\n",
       "      <td>-0.050000</td>\n",
       "      <td>1.000000</td>\n",
       "      <td>0.500000</td>\n",
       "      <td>0.500000</td>\n",
       "      <td>0.500000</td>\n",
       "      <td>891.0</td>\n",
       "    </tr>\n",
       "    <tr>\n",
       "      <th>8</th>\n",
       "      <td>http://mashable.com/2013/01/07/car-of-the-futu...</td>\n",
       "      <td>731.0</td>\n",
       "      <td>11.0</td>\n",
       "      <td>97.0</td>\n",
       "      <td>0.670103</td>\n",
       "      <td>1.0</td>\n",
       "      <td>0.836735</td>\n",
       "      <td>2.0</td>\n",
       "      <td>0.0</td>\n",
       "      <td>0.0</td>\n",
       "      <td>0.0</td>\n",
       "      <td>4.855670</td>\n",
       "      <td>7.0</td>\n",
       "      <td>0.0</td>\n",
       "      <td>0.0</td>\n",
       "      <td>0.0</td>\n",
       "      <td>0.0</td>\n",
       "      <td>1.0</td>\n",
       "      <td>0.0</td>\n",
       "      <td>0.0</td>\n",
       "      <td>0.0</td>\n",
       "      <td>0.0</td>\n",
       "      <td>0.0</td>\n",
       "      <td>0.0</td>\n",
       "      <td>0.0</td>\n",
       "      <td>0.0</td>\n",
       "      <td>0.0</td>\n",
       "      <td>0.0</td>\n",
       "      <td>0.0</td>\n",
       "      <td>0.0</td>\n",
       "      <td>0.000000</td>\n",
       "      <td>1.0</td>\n",
       "      <td>0.0</td>\n",
       "      <td>0.0</td>\n",
       "      <td>0.0</td>\n",
       "      <td>0.0</td>\n",
       "      <td>0.0</td>\n",
       "      <td>0.0</td>\n",
       "      <td>0.0</td>\n",
       "      <td>0.458250</td>\n",
       "      <td>0.028979</td>\n",
       "      <td>0.028662</td>\n",
       "      <td>0.029696</td>\n",
       "      <td>0.454412</td>\n",
       "      <td>0.538889</td>\n",
       "      <td>0.161111</td>\n",
       "      <td>0.030928</td>\n",
       "      <td>0.020619</td>\n",
       "      <td>0.600000</td>\n",
       "      <td>0.400000</td>\n",
       "      <td>0.566667</td>\n",
       "      <td>0.400000</td>\n",
       "      <td>0.8</td>\n",
       "      <td>-0.125000</td>\n",
       "      <td>-0.1250</td>\n",
       "      <td>-0.125000</td>\n",
       "      <td>0.125000</td>\n",
       "      <td>0.000000</td>\n",
       "      <td>0.375000</td>\n",
       "      <td>0.000000</td>\n",
       "      <td>3600.0</td>\n",
       "    </tr>\n",
       "    <tr>\n",
       "      <th>9</th>\n",
       "      <td>http://mashable.com/2013/01/07/chuck-hagel-web...</td>\n",
       "      <td>731.0</td>\n",
       "      <td>10.0</td>\n",
       "      <td>231.0</td>\n",
       "      <td>0.636364</td>\n",
       "      <td>1.0</td>\n",
       "      <td>0.797101</td>\n",
       "      <td>4.0</td>\n",
       "      <td>1.0</td>\n",
       "      <td>1.0</td>\n",
       "      <td>1.0</td>\n",
       "      <td>5.090909</td>\n",
       "      <td>5.0</td>\n",
       "      <td>0.0</td>\n",
       "      <td>0.0</td>\n",
       "      <td>0.0</td>\n",
       "      <td>0.0</td>\n",
       "      <td>0.0</td>\n",
       "      <td>1.0</td>\n",
       "      <td>0.0</td>\n",
       "      <td>0.0</td>\n",
       "      <td>0.0</td>\n",
       "      <td>0.0</td>\n",
       "      <td>0.0</td>\n",
       "      <td>0.0</td>\n",
       "      <td>0.0</td>\n",
       "      <td>0.0</td>\n",
       "      <td>0.0</td>\n",
       "      <td>0.0</td>\n",
       "      <td>0.0</td>\n",
       "      <td>0.000000</td>\n",
       "      <td>1.0</td>\n",
       "      <td>0.0</td>\n",
       "      <td>0.0</td>\n",
       "      <td>0.0</td>\n",
       "      <td>0.0</td>\n",
       "      <td>0.0</td>\n",
       "      <td>0.0</td>\n",
       "      <td>0.0</td>\n",
       "      <td>0.040000</td>\n",
       "      <td>0.040000</td>\n",
       "      <td>0.839997</td>\n",
       "      <td>0.040001</td>\n",
       "      <td>0.040002</td>\n",
       "      <td>0.313889</td>\n",
       "      <td>0.051852</td>\n",
       "      <td>0.038961</td>\n",
       "      <td>0.030303</td>\n",
       "      <td>0.562500</td>\n",
       "      <td>0.437500</td>\n",
       "      <td>0.298413</td>\n",
       "      <td>0.100000</td>\n",
       "      <td>0.5</td>\n",
       "      <td>-0.238095</td>\n",
       "      <td>-0.5000</td>\n",
       "      <td>-0.100000</td>\n",
       "      <td>0.000000</td>\n",
       "      <td>0.000000</td>\n",
       "      <td>0.500000</td>\n",
       "      <td>0.000000</td>\n",
       "      <td>710.0</td>\n",
       "    </tr>\n",
       "    <tr>\n",
       "      <th>10</th>\n",
       "      <td>http://mashable.com/2013/01/07/cosmic-events-d...</td>\n",
       "      <td>731.0</td>\n",
       "      <td>9.0</td>\n",
       "      <td>1248.0</td>\n",
       "      <td>0.490050</td>\n",
       "      <td>1.0</td>\n",
       "      <td>0.731638</td>\n",
       "      <td>11.0</td>\n",
       "      <td>0.0</td>\n",
       "      <td>1.0</td>\n",
       "      <td>0.0</td>\n",
       "      <td>4.617788</td>\n",
       "      <td>8.0</td>\n",
       "      <td>0.0</td>\n",
       "      <td>0.0</td>\n",
       "      <td>0.0</td>\n",
       "      <td>0.0</td>\n",
       "      <td>0.0</td>\n",
       "      <td>1.0</td>\n",
       "      <td>0.0</td>\n",
       "      <td>0.0</td>\n",
       "      <td>0.0</td>\n",
       "      <td>0.0</td>\n",
       "      <td>0.0</td>\n",
       "      <td>0.0</td>\n",
       "      <td>0.0</td>\n",
       "      <td>0.0</td>\n",
       "      <td>0.0</td>\n",
       "      <td>0.0</td>\n",
       "      <td>0.0</td>\n",
       "      <td>0.000000</td>\n",
       "      <td>1.0</td>\n",
       "      <td>0.0</td>\n",
       "      <td>0.0</td>\n",
       "      <td>0.0</td>\n",
       "      <td>0.0</td>\n",
       "      <td>0.0</td>\n",
       "      <td>0.0</td>\n",
       "      <td>0.0</td>\n",
       "      <td>0.025004</td>\n",
       "      <td>0.287301</td>\n",
       "      <td>0.400829</td>\n",
       "      <td>0.261864</td>\n",
       "      <td>0.025002</td>\n",
       "      <td>0.482060</td>\n",
       "      <td>0.102350</td>\n",
       "      <td>0.038462</td>\n",
       "      <td>0.020833</td>\n",
       "      <td>0.648649</td>\n",
       "      <td>0.351351</td>\n",
       "      <td>0.404480</td>\n",
       "      <td>0.100000</td>\n",
       "      <td>1.0</td>\n",
       "      <td>-0.415064</td>\n",
       "      <td>-1.0000</td>\n",
       "      <td>-0.100000</td>\n",
       "      <td>0.000000</td>\n",
       "      <td>0.000000</td>\n",
       "      <td>0.500000</td>\n",
       "      <td>0.000000</td>\n",
       "      <td>2200.0</td>\n",
       "    </tr>\n",
       "    <tr>\n",
       "      <th>11</th>\n",
       "      <td>http://mashable.com/2013/01/07/crayon-creatures/</td>\n",
       "      <td>731.0</td>\n",
       "      <td>10.0</td>\n",
       "      <td>187.0</td>\n",
       "      <td>0.666667</td>\n",
       "      <td>1.0</td>\n",
       "      <td>0.800000</td>\n",
       "      <td>7.0</td>\n",
       "      <td>0.0</td>\n",
       "      <td>1.0</td>\n",
       "      <td>0.0</td>\n",
       "      <td>4.657754</td>\n",
       "      <td>7.0</td>\n",
       "      <td>1.0</td>\n",
       "      <td>0.0</td>\n",
       "      <td>0.0</td>\n",
       "      <td>0.0</td>\n",
       "      <td>0.0</td>\n",
       "      <td>0.0</td>\n",
       "      <td>0.0</td>\n",
       "      <td>0.0</td>\n",
       "      <td>0.0</td>\n",
       "      <td>0.0</td>\n",
       "      <td>0.0</td>\n",
       "      <td>0.0</td>\n",
       "      <td>0.0</td>\n",
       "      <td>0.0</td>\n",
       "      <td>0.0</td>\n",
       "      <td>0.0</td>\n",
       "      <td>0.0</td>\n",
       "      <td>0.000000</td>\n",
       "      <td>1.0</td>\n",
       "      <td>0.0</td>\n",
       "      <td>0.0</td>\n",
       "      <td>0.0</td>\n",
       "      <td>0.0</td>\n",
       "      <td>0.0</td>\n",
       "      <td>0.0</td>\n",
       "      <td>0.0</td>\n",
       "      <td>0.028628</td>\n",
       "      <td>0.028573</td>\n",
       "      <td>0.028596</td>\n",
       "      <td>0.028715</td>\n",
       "      <td>0.885488</td>\n",
       "      <td>0.477165</td>\n",
       "      <td>0.150000</td>\n",
       "      <td>0.026738</td>\n",
       "      <td>0.010695</td>\n",
       "      <td>0.714286</td>\n",
       "      <td>0.285714</td>\n",
       "      <td>0.435000</td>\n",
       "      <td>0.200000</td>\n",
       "      <td>0.7</td>\n",
       "      <td>-0.262500</td>\n",
       "      <td>-0.4000</td>\n",
       "      <td>-0.125000</td>\n",
       "      <td>0.000000</td>\n",
       "      <td>0.000000</td>\n",
       "      <td>0.500000</td>\n",
       "      <td>0.000000</td>\n",
       "      <td>1900.0</td>\n",
       "    </tr>\n",
       "    <tr>\n",
       "      <th>12</th>\n",
       "      <td>http://mashable.com/2013/01/07/creature-cups/</td>\n",
       "      <td>731.0</td>\n",
       "      <td>9.0</td>\n",
       "      <td>274.0</td>\n",
       "      <td>0.609195</td>\n",
       "      <td>1.0</td>\n",
       "      <td>0.707602</td>\n",
       "      <td>18.0</td>\n",
       "      <td>2.0</td>\n",
       "      <td>11.0</td>\n",
       "      <td>0.0</td>\n",
       "      <td>4.233577</td>\n",
       "      <td>8.0</td>\n",
       "      <td>0.0</td>\n",
       "      <td>0.0</td>\n",
       "      <td>0.0</td>\n",
       "      <td>0.0</td>\n",
       "      <td>0.0</td>\n",
       "      <td>0.0</td>\n",
       "      <td>0.0</td>\n",
       "      <td>0.0</td>\n",
       "      <td>0.0</td>\n",
       "      <td>0.0</td>\n",
       "      <td>0.0</td>\n",
       "      <td>0.0</td>\n",
       "      <td>0.0</td>\n",
       "      <td>0.0</td>\n",
       "      <td>0.0</td>\n",
       "      <td>10700.0</td>\n",
       "      <td>16200.0</td>\n",
       "      <td>13450.000000</td>\n",
       "      <td>1.0</td>\n",
       "      <td>0.0</td>\n",
       "      <td>0.0</td>\n",
       "      <td>0.0</td>\n",
       "      <td>0.0</td>\n",
       "      <td>0.0</td>\n",
       "      <td>0.0</td>\n",
       "      <td>0.0</td>\n",
       "      <td>0.150493</td>\n",
       "      <td>0.025934</td>\n",
       "      <td>0.025188</td>\n",
       "      <td>0.304298</td>\n",
       "      <td>0.494088</td>\n",
       "      <td>0.534950</td>\n",
       "      <td>0.100728</td>\n",
       "      <td>0.051095</td>\n",
       "      <td>0.029197</td>\n",
       "      <td>0.636364</td>\n",
       "      <td>0.363636</td>\n",
       "      <td>0.375510</td>\n",
       "      <td>0.200000</td>\n",
       "      <td>0.7</td>\n",
       "      <td>-0.310417</td>\n",
       "      <td>-0.6000</td>\n",
       "      <td>-0.050000</td>\n",
       "      <td>1.000000</td>\n",
       "      <td>-1.000000</td>\n",
       "      <td>0.500000</td>\n",
       "      <td>1.000000</td>\n",
       "      <td>823.0</td>\n",
       "    </tr>\n",
       "    <tr>\n",
       "      <th>13</th>\n",
       "      <td>http://mashable.com/2013/01/07/dad-jokes/</td>\n",
       "      <td>731.0</td>\n",
       "      <td>9.0</td>\n",
       "      <td>285.0</td>\n",
       "      <td>0.744186</td>\n",
       "      <td>1.0</td>\n",
       "      <td>0.841530</td>\n",
       "      <td>4.0</td>\n",
       "      <td>2.0</td>\n",
       "      <td>0.0</td>\n",
       "      <td>21.0</td>\n",
       "      <td>4.343860</td>\n",
       "      <td>6.0</td>\n",
       "      <td>0.0</td>\n",
       "      <td>0.0</td>\n",
       "      <td>0.0</td>\n",
       "      <td>0.0</td>\n",
       "      <td>0.0</td>\n",
       "      <td>0.0</td>\n",
       "      <td>0.0</td>\n",
       "      <td>0.0</td>\n",
       "      <td>0.0</td>\n",
       "      <td>0.0</td>\n",
       "      <td>0.0</td>\n",
       "      <td>0.0</td>\n",
       "      <td>0.0</td>\n",
       "      <td>0.0</td>\n",
       "      <td>0.0</td>\n",
       "      <td>770.0</td>\n",
       "      <td>22800.0</td>\n",
       "      <td>11785.000000</td>\n",
       "      <td>1.0</td>\n",
       "      <td>0.0</td>\n",
       "      <td>0.0</td>\n",
       "      <td>0.0</td>\n",
       "      <td>0.0</td>\n",
       "      <td>0.0</td>\n",
       "      <td>0.0</td>\n",
       "      <td>0.0</td>\n",
       "      <td>0.033386</td>\n",
       "      <td>0.033427</td>\n",
       "      <td>0.033352</td>\n",
       "      <td>0.866499</td>\n",
       "      <td>0.033337</td>\n",
       "      <td>0.509744</td>\n",
       "      <td>-0.053085</td>\n",
       "      <td>0.028070</td>\n",
       "      <td>0.052632</td>\n",
       "      <td>0.347826</td>\n",
       "      <td>0.652174</td>\n",
       "      <td>0.457500</td>\n",
       "      <td>0.160000</td>\n",
       "      <td>1.0</td>\n",
       "      <td>-0.337889</td>\n",
       "      <td>-0.7000</td>\n",
       "      <td>-0.100000</td>\n",
       "      <td>1.000000</td>\n",
       "      <td>-1.000000</td>\n",
       "      <td>0.500000</td>\n",
       "      <td>1.000000</td>\n",
       "      <td>10000.0</td>\n",
       "    </tr>\n",
       "    <tr>\n",
       "      <th>14</th>\n",
       "      <td>http://mashable.com/2013/01/07/downton-abbey-t...</td>\n",
       "      <td>731.0</td>\n",
       "      <td>8.0</td>\n",
       "      <td>259.0</td>\n",
       "      <td>0.562753</td>\n",
       "      <td>1.0</td>\n",
       "      <td>0.644444</td>\n",
       "      <td>19.0</td>\n",
       "      <td>3.0</td>\n",
       "      <td>9.0</td>\n",
       "      <td>0.0</td>\n",
       "      <td>5.023166</td>\n",
       "      <td>7.0</td>\n",
       "      <td>0.0</td>\n",
       "      <td>0.0</td>\n",
       "      <td>0.0</td>\n",
       "      <td>0.0</td>\n",
       "      <td>0.0</td>\n",
       "      <td>0.0</td>\n",
       "      <td>0.0</td>\n",
       "      <td>0.0</td>\n",
       "      <td>0.0</td>\n",
       "      <td>0.0</td>\n",
       "      <td>0.0</td>\n",
       "      <td>0.0</td>\n",
       "      <td>0.0</td>\n",
       "      <td>0.0</td>\n",
       "      <td>0.0</td>\n",
       "      <td>4800.0</td>\n",
       "      <td>4800.0</td>\n",
       "      <td>4800.000000</td>\n",
       "      <td>1.0</td>\n",
       "      <td>0.0</td>\n",
       "      <td>0.0</td>\n",
       "      <td>0.0</td>\n",
       "      <td>0.0</td>\n",
       "      <td>0.0</td>\n",
       "      <td>0.0</td>\n",
       "      <td>0.0</td>\n",
       "      <td>0.028780</td>\n",
       "      <td>0.028814</td>\n",
       "      <td>0.028574</td>\n",
       "      <td>0.885144</td>\n",
       "      <td>0.028687</td>\n",
       "      <td>0.295175</td>\n",
       "      <td>0.057299</td>\n",
       "      <td>0.015444</td>\n",
       "      <td>0.011583</td>\n",
       "      <td>0.571429</td>\n",
       "      <td>0.428571</td>\n",
       "      <td>0.249091</td>\n",
       "      <td>0.136364</td>\n",
       "      <td>0.5</td>\n",
       "      <td>-0.138690</td>\n",
       "      <td>-0.1875</td>\n",
       "      <td>-0.050000</td>\n",
       "      <td>0.750000</td>\n",
       "      <td>0.550000</td>\n",
       "      <td>0.250000</td>\n",
       "      <td>0.550000</td>\n",
       "      <td>761.0</td>\n",
       "    </tr>\n",
       "  </tbody>\n",
       "</table>\n",
       "</div>"
      ],
      "text/plain": [
       "                                                  url  timedelta  \\\n",
       "0   http://mashable.com/2013/01/07/amazon-instant-...      731.0   \n",
       "1   http://mashable.com/2013/01/07/ap-samsung-spon...      731.0   \n",
       "2   http://mashable.com/2013/01/07/apple-40-billio...      731.0   \n",
       "3   http://mashable.com/2013/01/07/astronaut-notre...      731.0   \n",
       "4    http://mashable.com/2013/01/07/att-u-verse-apps/      731.0   \n",
       "5    http://mashable.com/2013/01/07/beewi-smart-toys/      731.0   \n",
       "6   http://mashable.com/2013/01/07/bodymedia-armba...      731.0   \n",
       "7    http://mashable.com/2013/01/07/canon-poweshot-n/      731.0   \n",
       "8   http://mashable.com/2013/01/07/car-of-the-futu...      731.0   \n",
       "9   http://mashable.com/2013/01/07/chuck-hagel-web...      731.0   \n",
       "10  http://mashable.com/2013/01/07/cosmic-events-d...      731.0   \n",
       "11   http://mashable.com/2013/01/07/crayon-creatures/      731.0   \n",
       "12      http://mashable.com/2013/01/07/creature-cups/      731.0   \n",
       "13          http://mashable.com/2013/01/07/dad-jokes/      731.0   \n",
       "14  http://mashable.com/2013/01/07/downton-abbey-t...      731.0   \n",
       "\n",
       "    n_tokens_title  n_tokens_content  n_unique_tokens  n_non_stop_words  \\\n",
       "0             12.0             219.0         0.663594               1.0   \n",
       "1              9.0             255.0         0.604743               1.0   \n",
       "2              9.0             211.0         0.575130               1.0   \n",
       "3              9.0             531.0         0.503788               1.0   \n",
       "4             13.0            1072.0         0.415646               1.0   \n",
       "5             10.0             370.0         0.559889               1.0   \n",
       "6              8.0             960.0         0.418163               1.0   \n",
       "7             12.0             989.0         0.433574               1.0   \n",
       "8             11.0              97.0         0.670103               1.0   \n",
       "9             10.0             231.0         0.636364               1.0   \n",
       "10             9.0            1248.0         0.490050               1.0   \n",
       "11            10.0             187.0         0.666667               1.0   \n",
       "12             9.0             274.0         0.609195               1.0   \n",
       "13             9.0             285.0         0.744186               1.0   \n",
       "14             8.0             259.0         0.562753               1.0   \n",
       "\n",
       "    n_non_stop_unique_tokens  num_hrefs  num_self_hrefs  num_imgs  num_videos  \\\n",
       "0                   0.815385        4.0             2.0       1.0         0.0   \n",
       "1                   0.791946        3.0             1.0       1.0         0.0   \n",
       "2                   0.663866        3.0             1.0       1.0         0.0   \n",
       "3                   0.665635        9.0             0.0       1.0         0.0   \n",
       "4                   0.540890       19.0            19.0      20.0         0.0   \n",
       "5                   0.698198        2.0             2.0       0.0         0.0   \n",
       "6                   0.549834       21.0            20.0      20.0         0.0   \n",
       "7                   0.572108       20.0            20.0      20.0         0.0   \n",
       "8                   0.836735        2.0             0.0       0.0         0.0   \n",
       "9                   0.797101        4.0             1.0       1.0         1.0   \n",
       "10                  0.731638       11.0             0.0       1.0         0.0   \n",
       "11                  0.800000        7.0             0.0       1.0         0.0   \n",
       "12                  0.707602       18.0             2.0      11.0         0.0   \n",
       "13                  0.841530        4.0             2.0       0.0        21.0   \n",
       "14                  0.644444       19.0             3.0       9.0         0.0   \n",
       "\n",
       "    average_token_length  num_keywords  data_channel_is_lifestyle  \\\n",
       "0               4.680365           5.0                        0.0   \n",
       "1               4.913725           4.0                        0.0   \n",
       "2               4.393365           6.0                        0.0   \n",
       "3               4.404896           7.0                        0.0   \n",
       "4               4.682836           7.0                        0.0   \n",
       "5               4.359459           9.0                        0.0   \n",
       "6               4.654167          10.0                        1.0   \n",
       "7               4.617796           9.0                        0.0   \n",
       "8               4.855670           7.0                        0.0   \n",
       "9               5.090909           5.0                        0.0   \n",
       "10              4.617788           8.0                        0.0   \n",
       "11              4.657754           7.0                        1.0   \n",
       "12              4.233577           8.0                        0.0   \n",
       "13              4.343860           6.0                        0.0   \n",
       "14              5.023166           7.0                        0.0   \n",
       "\n",
       "    data_channel_is_entertainment  data_channel_is_bus  \\\n",
       "0                             1.0                  0.0   \n",
       "1                             0.0                  1.0   \n",
       "2                             0.0                  1.0   \n",
       "3                             1.0                  0.0   \n",
       "4                             0.0                  0.0   \n",
       "5                             0.0                  0.0   \n",
       "6                             0.0                  0.0   \n",
       "7                             0.0                  0.0   \n",
       "8                             0.0                  0.0   \n",
       "9                             0.0                  0.0   \n",
       "10                            0.0                  0.0   \n",
       "11                            0.0                  0.0   \n",
       "12                            0.0                  0.0   \n",
       "13                            0.0                  0.0   \n",
       "14                            0.0                  0.0   \n",
       "\n",
       "    data_channel_is_socmed  data_channel_is_tech  data_channel_is_world  \\\n",
       "0                      0.0                   0.0                    0.0   \n",
       "1                      0.0                   0.0                    0.0   \n",
       "2                      0.0                   0.0                    0.0   \n",
       "3                      0.0                   0.0                    0.0   \n",
       "4                      0.0                   1.0                    0.0   \n",
       "5                      0.0                   1.0                    0.0   \n",
       "6                      0.0                   0.0                    0.0   \n",
       "7                      0.0                   1.0                    0.0   \n",
       "8                      0.0                   1.0                    0.0   \n",
       "9                      0.0                   0.0                    1.0   \n",
       "10                     0.0                   0.0                    1.0   \n",
       "11                     0.0                   0.0                    0.0   \n",
       "12                     0.0                   0.0                    0.0   \n",
       "13                     0.0                   0.0                    0.0   \n",
       "14                     0.0                   0.0                    0.0   \n",
       "\n",
       "    kw_min_min  kw_max_min  kw_avg_min  kw_min_max  kw_max_max  kw_avg_max  \\\n",
       "0          0.0         0.0         0.0         0.0         0.0         0.0   \n",
       "1          0.0         0.0         0.0         0.0         0.0         0.0   \n",
       "2          0.0         0.0         0.0         0.0         0.0         0.0   \n",
       "3          0.0         0.0         0.0         0.0         0.0         0.0   \n",
       "4          0.0         0.0         0.0         0.0         0.0         0.0   \n",
       "5          0.0         0.0         0.0         0.0         0.0         0.0   \n",
       "6          0.0         0.0         0.0         0.0         0.0         0.0   \n",
       "7          0.0         0.0         0.0         0.0         0.0         0.0   \n",
       "8          0.0         0.0         0.0         0.0         0.0         0.0   \n",
       "9          0.0         0.0         0.0         0.0         0.0         0.0   \n",
       "10         0.0         0.0         0.0         0.0         0.0         0.0   \n",
       "11         0.0         0.0         0.0         0.0         0.0         0.0   \n",
       "12         0.0         0.0         0.0         0.0         0.0         0.0   \n",
       "13         0.0         0.0         0.0         0.0         0.0         0.0   \n",
       "14         0.0         0.0         0.0         0.0         0.0         0.0   \n",
       "\n",
       "    kw_min_avg  kw_max_avg  kw_avg_avg  self_reference_min_shares  \\\n",
       "0          0.0         0.0         0.0                      496.0   \n",
       "1          0.0         0.0         0.0                        0.0   \n",
       "2          0.0         0.0         0.0                      918.0   \n",
       "3          0.0         0.0         0.0                        0.0   \n",
       "4          0.0         0.0         0.0                      545.0   \n",
       "5          0.0         0.0         0.0                     8500.0   \n",
       "6          0.0         0.0         0.0                      545.0   \n",
       "7          0.0         0.0         0.0                      545.0   \n",
       "8          0.0         0.0         0.0                        0.0   \n",
       "9          0.0         0.0         0.0                        0.0   \n",
       "10         0.0         0.0         0.0                        0.0   \n",
       "11         0.0         0.0         0.0                        0.0   \n",
       "12         0.0         0.0         0.0                    10700.0   \n",
       "13         0.0         0.0         0.0                      770.0   \n",
       "14         0.0         0.0         0.0                     4800.0   \n",
       "\n",
       "    self_reference_max_shares  self_reference_avg_sharess  weekday_is_monday  \\\n",
       "0                       496.0                  496.000000                1.0   \n",
       "1                         0.0                    0.000000                1.0   \n",
       "2                       918.0                  918.000000                1.0   \n",
       "3                         0.0                    0.000000                1.0   \n",
       "4                     16000.0                 3151.157895                1.0   \n",
       "5                      8500.0                 8500.000000                1.0   \n",
       "6                     16000.0                 3151.157895                1.0   \n",
       "7                     16000.0                 3151.157895                1.0   \n",
       "8                         0.0                    0.000000                1.0   \n",
       "9                         0.0                    0.000000                1.0   \n",
       "10                        0.0                    0.000000                1.0   \n",
       "11                        0.0                    0.000000                1.0   \n",
       "12                    16200.0                13450.000000                1.0   \n",
       "13                    22800.0                11785.000000                1.0   \n",
       "14                     4800.0                 4800.000000                1.0   \n",
       "\n",
       "    weekday_is_tuesday  weekday_is_wednesday  weekday_is_thursday  \\\n",
       "0                  0.0                   0.0                  0.0   \n",
       "1                  0.0                   0.0                  0.0   \n",
       "2                  0.0                   0.0                  0.0   \n",
       "3                  0.0                   0.0                  0.0   \n",
       "4                  0.0                   0.0                  0.0   \n",
       "5                  0.0                   0.0                  0.0   \n",
       "6                  0.0                   0.0                  0.0   \n",
       "7                  0.0                   0.0                  0.0   \n",
       "8                  0.0                   0.0                  0.0   \n",
       "9                  0.0                   0.0                  0.0   \n",
       "10                 0.0                   0.0                  0.0   \n",
       "11                 0.0                   0.0                  0.0   \n",
       "12                 0.0                   0.0                  0.0   \n",
       "13                 0.0                   0.0                  0.0   \n",
       "14                 0.0                   0.0                  0.0   \n",
       "\n",
       "    weekday_is_friday  weekday_is_saturday  weekday_is_sunday  is_weekend  \\\n",
       "0                 0.0                  0.0                0.0         0.0   \n",
       "1                 0.0                  0.0                0.0         0.0   \n",
       "2                 0.0                  0.0                0.0         0.0   \n",
       "3                 0.0                  0.0                0.0         0.0   \n",
       "4                 0.0                  0.0                0.0         0.0   \n",
       "5                 0.0                  0.0                0.0         0.0   \n",
       "6                 0.0                  0.0                0.0         0.0   \n",
       "7                 0.0                  0.0                0.0         0.0   \n",
       "8                 0.0                  0.0                0.0         0.0   \n",
       "9                 0.0                  0.0                0.0         0.0   \n",
       "10                0.0                  0.0                0.0         0.0   \n",
       "11                0.0                  0.0                0.0         0.0   \n",
       "12                0.0                  0.0                0.0         0.0   \n",
       "13                0.0                  0.0                0.0         0.0   \n",
       "14                0.0                  0.0                0.0         0.0   \n",
       "\n",
       "      LDA_00    LDA_01    LDA_02    LDA_03    LDA_04  global_subjectivity  \\\n",
       "0   0.500331  0.378279  0.040005  0.041263  0.040123             0.521617   \n",
       "1   0.799756  0.050047  0.050096  0.050101  0.050001             0.341246   \n",
       "2   0.217792  0.033334  0.033351  0.033334  0.682188             0.702222   \n",
       "3   0.028573  0.419300  0.494651  0.028905  0.028572             0.429850   \n",
       "4   0.028633  0.028794  0.028575  0.028572  0.885427             0.513502   \n",
       "5   0.022245  0.306718  0.022231  0.022224  0.626582             0.437409   \n",
       "6   0.020082  0.114705  0.020024  0.020015  0.825173             0.514480   \n",
       "7   0.022224  0.150733  0.243435  0.022224  0.561384             0.543474   \n",
       "8   0.458250  0.028979  0.028662  0.029696  0.454412             0.538889   \n",
       "9   0.040000  0.040000  0.839997  0.040001  0.040002             0.313889   \n",
       "10  0.025004  0.287301  0.400829  0.261864  0.025002             0.482060   \n",
       "11  0.028628  0.028573  0.028596  0.028715  0.885488             0.477165   \n",
       "12  0.150493  0.025934  0.025188  0.304298  0.494088             0.534950   \n",
       "13  0.033386  0.033427  0.033352  0.866499  0.033337             0.509744   \n",
       "14  0.028780  0.028814  0.028574  0.885144  0.028687             0.295175   \n",
       "\n",
       "    global_sentiment_polarity  global_rate_positive_words  \\\n",
       "0                    0.092562                    0.045662   \n",
       "1                    0.148948                    0.043137   \n",
       "2                    0.323333                    0.056872   \n",
       "3                    0.100705                    0.041431   \n",
       "4                    0.281003                    0.074627   \n",
       "5                    0.071184                    0.029730   \n",
       "6                    0.268303                    0.080208   \n",
       "7                    0.298613                    0.083923   \n",
       "8                    0.161111                    0.030928   \n",
       "9                    0.051852                    0.038961   \n",
       "10                   0.102350                    0.038462   \n",
       "11                   0.150000                    0.026738   \n",
       "12                   0.100728                    0.051095   \n",
       "13                  -0.053085                    0.028070   \n",
       "14                   0.057299                    0.015444   \n",
       "\n",
       "    global_rate_negative_words  rate_positive_words  rate_negative_words  \\\n",
       "0                     0.013699             0.769231             0.230769   \n",
       "1                     0.015686             0.733333             0.266667   \n",
       "2                     0.009479             0.857143             0.142857   \n",
       "3                     0.020716             0.666667             0.333333   \n",
       "4                     0.012127             0.860215             0.139785   \n",
       "5                     0.027027             0.523810             0.476190   \n",
       "6                     0.016667             0.827957             0.172043   \n",
       "7                     0.015167             0.846939             0.153061   \n",
       "8                     0.020619             0.600000             0.400000   \n",
       "9                     0.030303             0.562500             0.437500   \n",
       "10                    0.020833             0.648649             0.351351   \n",
       "11                    0.010695             0.714286             0.285714   \n",
       "12                    0.029197             0.636364             0.363636   \n",
       "13                    0.052632             0.347826             0.652174   \n",
       "14                    0.011583             0.571429             0.428571   \n",
       "\n",
       "    avg_positive_polarity  min_positive_polarity  max_positive_polarity  \\\n",
       "0                0.378636               0.100000                    0.7   \n",
       "1                0.286915               0.033333                    0.7   \n",
       "2                0.495833               0.100000                    1.0   \n",
       "3                0.385965               0.136364                    0.8   \n",
       "4                0.411127               0.033333                    1.0   \n",
       "5                0.350610               0.136364                    0.6   \n",
       "6                0.402039               0.100000                    1.0   \n",
       "7                0.427720               0.100000                    1.0   \n",
       "8                0.566667               0.400000                    0.8   \n",
       "9                0.298413               0.100000                    0.5   \n",
       "10               0.404480               0.100000                    1.0   \n",
       "11               0.435000               0.200000                    0.7   \n",
       "12               0.375510               0.200000                    0.7   \n",
       "13               0.457500               0.160000                    1.0   \n",
       "14               0.249091               0.136364                    0.5   \n",
       "\n",
       "    avg_negative_polarity  min_negative_polarity  max_negative_polarity  \\\n",
       "0               -0.350000                -0.6000              -0.200000   \n",
       "1               -0.118750                -0.1250              -0.100000   \n",
       "2               -0.466667                -0.8000              -0.133333   \n",
       "3               -0.369697                -0.6000              -0.166667   \n",
       "4               -0.220192                -0.5000              -0.050000   \n",
       "5               -0.195000                -0.4000              -0.100000   \n",
       "6               -0.224479                -0.5000              -0.050000   \n",
       "7               -0.242778                -0.5000              -0.050000   \n",
       "8               -0.125000                -0.1250              -0.125000   \n",
       "9               -0.238095                -0.5000              -0.100000   \n",
       "10              -0.415064                -1.0000              -0.100000   \n",
       "11              -0.262500                -0.4000              -0.125000   \n",
       "12              -0.310417                -0.6000              -0.050000   \n",
       "13              -0.337889                -0.7000              -0.100000   \n",
       "14              -0.138690                -0.1875              -0.050000   \n",
       "\n",
       "    title_subjectivity  title_sentiment_polarity  abs_title_subjectivity  \\\n",
       "0             0.500000                 -0.187500                0.000000   \n",
       "1             0.000000                  0.000000                0.500000   \n",
       "2             0.000000                  0.000000                0.500000   \n",
       "3             0.000000                  0.000000                0.500000   \n",
       "4             0.454545                  0.136364                0.045455   \n",
       "5             0.642857                  0.214286                0.142857   \n",
       "6             0.000000                  0.000000                0.500000   \n",
       "7             1.000000                  0.500000                0.500000   \n",
       "8             0.125000                  0.000000                0.375000   \n",
       "9             0.000000                  0.000000                0.500000   \n",
       "10            0.000000                  0.000000                0.500000   \n",
       "11            0.000000                  0.000000                0.500000   \n",
       "12            1.000000                 -1.000000                0.500000   \n",
       "13            1.000000                 -1.000000                0.500000   \n",
       "14            0.750000                  0.550000                0.250000   \n",
       "\n",
       "    abs_title_sentiment_polarity   shares  \n",
       "0                       0.187500    593.0  \n",
       "1                       0.000000    711.0  \n",
       "2                       0.000000   1500.0  \n",
       "3                       0.000000   1200.0  \n",
       "4                       0.136364    505.0  \n",
       "5                       0.214286    855.0  \n",
       "6                       0.000000    556.0  \n",
       "7                       0.500000    891.0  \n",
       "8                       0.000000   3600.0  \n",
       "9                       0.000000    710.0  \n",
       "10                      0.000000   2200.0  \n",
       "11                      0.000000   1900.0  \n",
       "12                      1.000000    823.0  \n",
       "13                      1.000000  10000.0  \n",
       "14                      0.550000    761.0  "
      ]
     },
     "execution_count": 32,
     "metadata": {},
     "output_type": "execute_result"
    }
   ],
   "source": [
    "# 2) Print a table with the first 15 samples;\n",
    "online_news_popularity[:15]"
   ]
  },
  {
   "cell_type": "markdown",
   "id": "5b1c8e5f",
   "metadata": {},
   "source": [
    "In the next cell I show the histogram distribution of \"shares\", but in the first image the values on the y axis have a very large range, and therefore some values are not shown adequately, to solve this problem we plot on a logarithmic scale."
   ]
  },
  {
   "cell_type": "code",
   "execution_count": 33,
   "id": "eafcf63a",
   "metadata": {
    "execution": {
     "iopub.execute_input": "2022-01-05T09:48:34.620413Z",
     "iopub.status.busy": "2022-01-05T09:48:34.619655Z",
     "iopub.status.idle": "2022-01-05T09:48:36.111720Z",
     "shell.execute_reply": "2022-01-05T09:48:36.110830Z",
     "shell.execute_reply.started": "2022-01-05T09:48:34.620365Z"
    },
    "id": "cbh1vpHDwuce",
    "outputId": "87db394b-40d3-4a4f-e3ee-40438754fd19"
   },
   "outputs": [
    {
     "data": {
      "image/png": "[encoded data removed]",
      "text/plain": [
       "<Figure size 432x288 with 1 Axes>"
      ]
     },
     "metadata": {
      "needs_background": "light"
     },
     "output_type": "display_data"
    },
    {
     "data": {
      "image/png": "[encoded data removed]",
      "text/plain": [
       "<Figure size 432x288 with 1 Axes>"
      ]
     },
     "metadata": {
      "needs_background": "light"
     },
     "output_type": "display_data"
    },
    {
     "data": {
      "image/png": "[encoded data removed]",
      "text/plain": [
       "<Figure size 432x288 with 1 Axes>"
      ]
     },
     "metadata": {
      "needs_background": "light"
     },
     "output_type": "display_data"
    }
   ],
   "source": [
    "# 3) Plot the histogram distribution of \"shares\";\n",
    "\n",
    "# Incorrect plot\n",
    "plt.hist(online_news_popularity[\"shares\"])\n",
    "plt.title(\"Feature: Shares\")\n",
    "plt.show()\n",
    "\n",
    "# Correct plot\n",
    "plt.hist(online_news_popularity[\"shares\"])\n",
    "plt.title(\"Feature: Shares (log scale) Before\")\n",
    "# The values on the y axis have a very large range, to solve this problem we plot on a logarithmic scale\n",
    "plt.yscale('log')\n",
    "plt.show()\n",
    "\n",
    "# Correct plot after scale\n",
    "quantile_transformer = preprocessing.QuantileTransformer(random_state=0,n_quantiles=112, output_distribution='normal')\n",
    "onp_reshaped = np.array(online_news_popularity['shares']).reshape(-1, 1)\n",
    "onp_qtrans = quantile_transformer.fit_transform(onp_reshaped)\n",
    "plt.hist(onp_qtrans)\n",
    "plt.title(\"Feature: Shares (log scale) After\")\n",
    "plt.yscale('log')\n",
    "plt.show()"
   ]
  },
  {
   "cell_type": "code",
   "execution_count": 34,
   "id": "8b548d8c",
   "metadata": {
    "execution": {
     "iopub.execute_input": "2022-01-05T09:48:36.114270Z",
     "iopub.status.busy": "2022-01-05T09:48:36.113317Z",
     "iopub.status.idle": "2022-01-05T09:48:36.548132Z",
     "shell.execute_reply": "2022-01-05T09:48:36.547235Z",
     "shell.execute_reply.started": "2022-01-05T09:48:36.114223Z"
    },
    "id": "JaRDtZFrwuce",
    "outputId": "704466b6-8328-4666-e269-9855d26322a4"
   },
   "outputs": [
    {
     "data": {
      "image/png": "[encoded data removed]",
      "text/plain": [
       "<Figure size 1440x720 with 1 Axes>"
      ]
     },
     "metadata": {
      "needs_background": "light"
     },
     "output_type": "display_data"
    }
   ],
   "source": [
    "# 4) A bar chart counting the attributes:  data_channel_is_lifestyle, data_channel_is_entertainment, \n",
    "#   data_channel_is_bus, data_channel_is_socmed, data_channel_is_tech, data_channel_is_world;\n",
    "\n",
    "# List of required attributes\n",
    "attributes = [\"data_channel_is_lifestyle\", \"data_channel_is_entertainment\", \"data_channel_is_bus\", \n",
    "                \"data_channel_is_socmed\", \"data_channel_is_tech\", \"data_channel_is_world\"]\n",
    "\n",
    "# Arrays used to store the total number of Boolean values for each feature\n",
    "total_zero = []\n",
    "total_one = []\n",
    "\n",
    "for attribute in attributes:\n",
    "    total_zero.append(onp_bin[attribute].value_counts()[0]) # zero\n",
    "    total_one.append(onp_bin[attribute].value_counts()[1])  # one\n",
    "\n",
    "# Declaring the figure or the plot (y, x) or (width, height)\n",
    "plt.figure(figsize=[20, 10])\n",
    "\n",
    "# Using numpy to group different data with bars\n",
    "number_list = np.arange(len(total_zero))\n",
    "\n",
    "for attribute in attributes:\n",
    "    plt.bar(number_list, total_zero, color = 'orange', width = 0.35)\n",
    "    plt.bar(number_list + 0.35, total_one, color = 'blue', width = 0.35)\n",
    "    \n",
    "# Creating the legend of the bars in the plot\n",
    "plt.legend(['0', '1'])\n",
    "\n",
    "# Overiding the x axis with the feature names\n",
    "plt.xticks([i + 0.35 for i in range(len(attributes))], attributes)\n",
    "\n",
    "# Giving the tilte for the plot\n",
    "plt.title(\"A bar chart counting the boolean value\")\n",
    "\n",
    "# Namimg the x and y axis\n",
    "plt.xlabel('Attributes')\n",
    "plt.ylabel('Tot')\n",
    "\n",
    "# Saving the plot as a 'png'\n",
    "#plt.savefig('4BarPlot.png')\n",
    "\n",
    "# Displaying the bar plot\n",
    "plt.show()\n",
    "\n"
   ]
  },
  {
   "cell_type": "markdown",
   "id": "bedeca32",
   "metadata": {
    "id": "21ieszFxwucf"
   },
   "source": [
    "## 2.3 Feature importance analysis  (up to 1 of 11.2 points)\n",
    "\n",
    "Perform feature importance analysis"
   ]
  },
  {
   "cell_type": "markdown",
   "id": "2879133a",
   "metadata": {
    "id": "0rycUEyvwucf"
   },
   "source": [
    "To analyze the importance of the features I decided to use the \"permutation_importance\" function, as it allows you to permute a feature several times thanks to the \"n_repeat\" attribute, thus being more precise than the simple \"feature_importances_\" attribute."
   ]
  },
  {
   "cell_type": "code",
   "execution_count": 35,
   "id": "526cae28",
   "metadata": {
    "execution": {
     "iopub.execute_input": "2022-01-05T09:48:36.549703Z",
     "iopub.status.busy": "2022-01-05T09:48:36.549260Z",
     "iopub.status.idle": "2022-01-05T09:50:16.400091Z",
     "shell.execute_reply": "2022-01-05T09:50:16.399154Z",
     "shell.execute_reply.started": "2022-01-05T09:48:36.549669Z"
    },
    "id": "wZCVGIT4wucf",
    "outputId": "4fca7ec4-9f56-421c-a247-b984c84bcf8c"
   },
   "outputs": [
    {
     "name": "stdout",
     "output_type": "stream",
     "text": [
      "0.106 +/- 0.001 kw_avg_avg\n",
      "0.071 +/- 0.001 self_reference_min_shares\n",
      "0.059 +/- 0.001 kw_max_avg\n",
      "0.050 +/- 0.001 LDA_03\n",
      "0.045 +/- 0.001 timedelta\n",
      "0.043 +/- 0.001 self_reference_avg_sharess\n",
      "0.041 +/- 0.001 LDA_04\n",
      "0.032 +/- 0.001 kw_min_avg\n",
      "0.030 +/- 0.001 LDA_02\n",
      "0.025 +/- 0.001 is_weekend\n",
      "0.024 +/- 0.001 LDA_00\n",
      "0.021 +/- 0.000 self_reference_max_shares\n",
      "0.020 +/- 0.001 data_channel_is_entertainment\n",
      "0.019 +/- 0.000 LDA_01\n",
      "0.019 +/- 0.001 n_unique_tokens\n",
      "0.019 +/- 0.000 data_channel_is_world\n",
      "0.017 +/- 0.001 num_hrefs\n",
      "0.017 +/- 0.001 kw_avg_min\n",
      "0.017 +/- 0.001 kw_avg_max\n",
      "0.016 +/- 0.001 data_channel_is_tech\n",
      "0.015 +/- 0.001 kw_min_max\n",
      "0.013 +/- 0.000 n_tokens_content\n",
      "0.013 +/- 0.000 n_non_stop_unique_tokens\n",
      "0.012 +/- 0.001 average_token_length\n",
      "0.011 +/- 0.001 kw_max_min\n",
      "0.011 +/- 0.001 global_subjectivity\n",
      "0.010 +/- 0.000 global_sentiment_polarity\n",
      "0.009 +/- 0.000 avg_negative_polarity\n",
      "0.009 +/- 0.001 global_rate_positive_words\n",
      "0.009 +/- 0.000 global_rate_negative_words\n",
      "0.009 +/- 0.000 num_imgs\n",
      "0.008 +/- 0.001 rate_positive_words\n",
      "0.008 +/- 0.001 avg_positive_polarity\n",
      "0.008 +/- 0.000 n_non_stop_words\n",
      "0.008 +/- 0.001 rate_negative_words\n",
      "0.007 +/- 0.001 n_tokens_title\n",
      "0.007 +/- 0.001 min_positive_polarity\n",
      "0.007 +/- 0.000 max_positive_polarity\n",
      "0.007 +/- 0.001 num_self_hrefs\n",
      "0.006 +/- 0.000 num_videos\n",
      "0.005 +/- 0.000 title_subjectivity\n",
      "0.005 +/- 0.001 abs_title_sentiment_polarity\n",
      "0.005 +/- 0.000 min_negative_polarity\n",
      "0.005 +/- 0.000 data_channel_is_socmed\n",
      "0.005 +/- 0.000 max_negative_polarity\n",
      "0.004 +/- 0.001 abs_title_subjectivity\n",
      "0.004 +/- 0.000 kw_min_min\n",
      "0.004 +/- 0.000 title_sentiment_polarity\n",
      "0.004 +/- 0.000 data_channel_is_bus\n",
      "0.004 +/- 0.000 weekday_is_saturday\n",
      "0.004 +/- 0.000 kw_max_max\n",
      "0.003 +/- 0.000 num_keywords\n",
      "0.002 +/- 0.000 weekday_is_tuesday\n",
      "0.002 +/- 0.000 weekday_is_wednesday\n",
      "0.002 +/- 0.000 weekday_is_friday\n",
      "0.001 +/- 0.000 weekday_is_sunday\n",
      "0.001 +/- 0.000 weekday_is_thursday\n",
      "0.001 +/- 0.000 weekday_is_monday\n",
      "0.000 +/- 0.000 data_channel_is_lifestyle\n",
      "CPU times: user 1min 55s, sys: 28 ms, total: 1min 55s\n",
      "Wall time: 1min 55s\n"
     ]
    }
   ],
   "source": [
    "%%time\n",
    "\n",
    "rfc_clf = RandomForestClassifier(n_estimators=10, max_depth=None, min_samples_split=2, random_state=0)\n",
    "rfc_clf.fit(X_train, y_train)\n",
    "\n",
    "r = permutation_importance(rfc_clf, X, y, n_repeats=10, random_state=0)\n",
    "\n",
    "# Dict to store features and their importance\n",
    "less_important = {}\n",
    "\n",
    "for i in r.importances_mean.argsort()[::-1]:\n",
    "    less_important[onp_better.columns[i]] = r.importances_mean[i]\n",
    "    if r.importances_mean[i] - 2 * r.importances_std[i] > 0:\n",
    "        print(f\"{r.importances_mean[i]:.3f}\" f\" +/- {r.importances_std[i]:.3f} \" f\"{onp_better.columns[i]}\")"
   ]
  },
  {
   "cell_type": "markdown",
   "id": "8e54f11f",
   "metadata": {},
   "source": [
    "To speed up the execution of the models in the next phase I decided to remove the less important features (with a value below 0.005, because through various tests I have noticed that by removing features with higher values there is a worsening of the accuracy for some models )"
   ]
  },
  {
   "cell_type": "code",
   "execution_count": 36,
   "id": "58d25f23",
   "metadata": {
    "execution": {
     "iopub.execute_input": "2022-01-05T09:50:16.401888Z",
     "iopub.status.busy": "2022-01-05T09:50:16.401500Z",
     "iopub.status.idle": "2022-01-05T09:50:16.476346Z",
     "shell.execute_reply": "2022-01-05T09:50:16.475693Z",
     "shell.execute_reply.started": "2022-01-05T09:50:16.401845Z"
    }
   },
   "outputs": [
    {
     "name": "stdout",
     "output_type": "stream",
     "text": [
      "Before:  (44115, 59)\n",
      "After:  (44115, 44)\n"
     ]
    }
   ],
   "source": [
    "print(\"Before: \", X.shape)\n",
    "for col in less_important:\n",
    "    if less_important[col] < 0.005:\n",
    "        X.drop(col, axis=1, inplace=True)\n",
    "print(\"After: \", X.shape)"
   ]
  },
  {
   "cell_type": "code",
   "execution_count": 37,
   "id": "b90f0299",
   "metadata": {
    "execution": {
     "iopub.execute_input": "2022-01-05T09:50:16.478304Z",
     "iopub.status.busy": "2022-01-05T09:50:16.477545Z",
     "iopub.status.idle": "2022-01-05T09:50:16.796863Z",
     "shell.execute_reply": "2022-01-05T09:50:16.796009Z",
     "shell.execute_reply.started": "2022-01-05T09:50:16.478266Z"
    },
    "id": "1h-L4DIfwucf",
    "outputId": "69f17430-1ec3-45d4-9317-f0eadd6c004b"
   },
   "outputs": [
    {
     "name": "stdout",
     "output_type": "stream",
     "text": [
      "Feature: kw_avg_avg  Index: 26  Value: 0.10632437946276778\n"
     ]
    },
    {
     "data": {
      "image/png": "[encoded data removed]",
      "text/plain": [
       "<Figure size 432x288 with 1 Axes>"
      ]
     },
     "metadata": {
      "needs_background": "light"
     },
     "output_type": "display_data"
    }
   ],
   "source": [
    "# Features Importance with permutation_importance() function\n",
    "number_list = np.arange(len(r.importances_mean))\n",
    "plt.bar(number_list, r.importances_mean)\n",
    "print(\"Feature:\", onp_better.columns[np.argmax(r.importances_mean)], \" Index:\", np.argmax(r.importances_mean), \" Value:\", r.importances_mean[np.argmax(r.importances_mean)])"
   ]
  },
  {
   "cell_type": "code",
   "execution_count": 38,
   "id": "89980955",
   "metadata": {
    "execution": {
     "iopub.execute_input": "2022-01-05T09:50:16.798195Z",
     "iopub.status.busy": "2022-01-05T09:50:16.797986Z",
     "iopub.status.idle": "2022-01-05T09:50:17.133513Z",
     "shell.execute_reply": "2022-01-05T09:50:17.132716Z",
     "shell.execute_reply.started": "2022-01-05T09:50:16.798169Z"
    },
    "id": "X-YqAkJXwucf",
    "outputId": "558e30fa-2cd7-4eca-f6b2-2fa5cd17dcf2"
   },
   "outputs": [
    {
     "name": "stdout",
     "output_type": "stream",
     "text": [
      "Feature: kw_avg_avg  Index: 26  Value: 0.03408278343125609\n"
     ]
    },
    {
     "data": {
      "image/png": "[encoded data removed]",
      "text/plain": [
       "<Figure size 432x288 with 1 Axes>"
      ]
     },
     "metadata": {
      "needs_background": "light"
     },
     "output_type": "display_data"
    }
   ],
   "source": [
    "# Features Importance with the feature_importances_ parameter\n",
    "importance = rfc_clf.feature_importances_\n",
    "\n",
    "number_list = np.arange(len(importance))\n",
    "\n",
    "plt.bar(number_list, importance)\n",
    "print(\"Feature:\", onp_better.columns[np.argmax(importance)], \" Index:\", np.argmax(importance), \" Value:\", importance[np.argmax(importance)])"
   ]
  },
  {
   "cell_type": "markdown",
   "id": "99406da1",
   "metadata": {
    "id": "IevoTzJ7wucg"
   },
   "source": [
    "<hr>\n",
    "\n",
    "## 3. Model Selection (up to 8.2 of 11.2  points)\n",
    "In this part of the challenge you are requested to perform all the necessary steps required in order to design a full fledged classification task on the <b>shares</b> feature.\n",
    "\n",
    "You are requested to perform the following steps having in mind the following: \n",
    "\n",
    "1) the dataset must be properly splitted to perform crossvalidation \n",
    "\n",
    "2) when required, features must be properly encoded\n",
    "\n",
    "3) in order to simplify the problem the target feature can be dicretized <b>(number of classes must be >=5)</b> ;\n",
    "\n",
    "4) for model selection you are requested to consider: \n",
    "\n",
    "- Decision Trees\n",
    "\n",
    "- Support Vector Machines;\n",
    "\n",
    "- An ensamble methodology;\n",
    "\n",
    "- MLPNs.\n",
    "\n",
    "5) hyper-parameter tuning <b>must</b> be performed and discussed;\n",
    "\n",
    "6) apply standardizion and normalization when appropriate;\n",
    "\n",
    "7) remember to use an appropriate evaluation setting (cross-fold etc..)\n",
    "\n",
    "8) describe the measures adopted for the evaluation and discuss the results;\n",
    "\n",
    "9) provide a discussion of the model selection, where you describe the differences in terms of performance and explains the root causes;\n"
   ]
  },
  {
   "cell_type": "markdown",
   "id": "f6fc2627",
   "metadata": {},
   "source": [
    "First of all, I split the dataset into two parts again (train and test set), because in the previous section I eliminated the less important features and define the names of the target classes."
   ]
  },
  {
   "cell_type": "code",
   "execution_count": 39,
   "id": "424eea97",
   "metadata": {
    "execution": {
     "iopub.execute_input": "2022-01-05T09:50:17.138755Z",
     "iopub.status.busy": "2022-01-05T09:50:17.138503Z",
     "iopub.status.idle": "2022-01-05T09:50:17.161576Z",
     "shell.execute_reply": "2022-01-05T09:50:17.160813Z",
     "shell.execute_reply.started": "2022-01-05T09:50:17.138728Z"
    },
    "id": "g43hXLuDwucg"
   },
   "outputs": [],
   "source": [
    "X_train, X_test, y_train, y_test = train_test_split(X, y, test_size=0.3, random_state = 112)\n",
    "\n",
    "# Class names of the target\n",
    "target_names = [ 'Class 0', 'Class 1', 'Class 2', 'Class 3', 'Class 4']"
   ]
  },
  {
   "cell_type": "markdown",
   "id": "3cb8dfb5",
   "metadata": {},
   "source": [
    "In this section I will analyze 4 different models to predict the target class, i.e. Decision Tree Classifier, Support Vector Machines Classifier (SVM), Random Forest and Multi Layer Perceptron Networks (MLPN).\n",
    "\n",
    "Hyperparameter optimization will be performed for each model to find the best parameters. To do this I used two functions:\n",
    "- <i> GridSearchCV </i>, which exhaustively generates candidates from a grid of parameter values specified with the param_grid parameter;\n",
    "- <i> RandomiizedSearchCV </i>, which implements a randomized parameter search, in which each setting is sampled from a distribution on the possible values of the parameters.\n",
    "\n",
    "After that for each model I will show the confusion matrix and the classification report obtained from the previous model learned.\n",
    "\n",
    "Finally I perform the cross-validation with the <i> cross_val_score </i> function dividing the data, fitting a model and computing the score 5 consecutive times (with different splits each time), and then showing the maximum score and the average of all the scores obtained +/- the standard deviation, to reduce the probability of being \"lucky\" or \"unlucky\" in splitting the data into training set and test set.\n",
    "\n",
    "In addition, for each model I decided to print the time required for execution to show which model is the fastest, but also to demonstrate the long time it takes to execute everything."
   ]
  },
  {
   "cell_type": "markdown",
   "id": "f4e92c0e",
   "metadata": {
    "id": "q4C7yuiOwucg"
   },
   "source": [
    "#### Decision Tree"
   ]
  },
  {
   "cell_type": "markdown",
   "id": "8b1b63d1",
   "metadata": {},
   "source": [
    "Decision Tree is a supervised machine learning algorithm that creates a tree structure, in which nodes are tests on feature values and leaf nodes are the \"decisions\" that specify the class label.\n",
    "\n",
    "Every test node is a test on the value (or range) of one features and for each possible outcome of the test, an edge is created that links to a subsequent test node or to a leaf node."
   ]
  },
  {
   "cell_type": "markdown",
   "id": "82e9fd84",
   "metadata": {
    "id": "TKMY-5uBwucg"
   },
   "source": [
    "##### Hyper-Parameter"
   ]
  },
  {
   "cell_type": "code",
   "execution_count": 29,
   "id": "8467f861",
   "metadata": {
    "execution": {
     "iopub.execute_input": "2022-01-05T09:50:17.162869Z",
     "iopub.status.busy": "2022-01-05T09:50:17.162671Z",
     "iopub.status.idle": "2022-01-05T09:51:46.129622Z",
     "shell.execute_reply": "2022-01-05T09:51:46.128699Z",
     "shell.execute_reply.started": "2022-01-05T09:50:17.162843Z"
    },
    "id": "20wchnIpwucg",
    "outputId": "c55a3002-d3d5-4a70-a7e0-3ae5868d4cd3"
   },
   "outputs": [
    {
     "name": "stdout",
     "output_type": "stream",
     "text": [
      "Best parameters: {'criterion': 'gini', 'max_depth': 50, 'min_samples_leaf': 100}\n",
      "CPU times: user 2.3 s, sys: 182 ms, total: 2.48 s\n",
      "Wall time: 1min 28s\n"
     ]
    }
   ],
   "source": [
    "%%time\n",
    "\n",
    "dtc_parameter = {\n",
    "    'criterion': ['gini', 'entropy'],\n",
    "    'min_samples_leaf': [2, 10, 25, 50, 100],\n",
    "    'max_depth': [5, 10, 50, 100]}\n",
    "\n",
    "dtc = GridSearchCV(tree.DecisionTreeClassifier(), dtc_parameter, n_jobs = -1) \n",
    "dtc.fit(X_train, y_train) \n",
    "dtc_best_params = dtc.best_params_\n",
    "print(\"Best parameters:\", dtc_best_params)"
   ]
  },
  {
   "cell_type": "markdown",
   "id": "a663f02a",
   "metadata": {
    "id": "ulA9-V2zwuch"
   },
   "source": [
    "##### Evaluation"
   ]
  },
  {
   "cell_type": "code",
   "execution_count": 30,
   "id": "5816722d",
   "metadata": {
    "execution": {
     "iopub.execute_input": "2022-01-05T09:51:46.131636Z",
     "iopub.status.busy": "2022-01-05T09:51:46.131397Z",
     "iopub.status.idle": "2022-01-05T09:51:46.199573Z",
     "shell.execute_reply": "2022-01-05T09:51:46.198696Z",
     "shell.execute_reply.started": "2022-01-05T09:51:46.131602Z"
    },
    "id": "37auKWa-wuch",
    "outputId": "4813f542-9ed6-4841-f9ff-f8a40db1b9a8"
   },
   "outputs": [
    {
     "name": "stdout",
     "output_type": "stream",
     "text": [
      "Confusion Matrix: \n",
      " [[1137  634  308  232  324]\n",
      " [ 760  775  402  342  353]\n",
      " [ 584  475  552  589  495]\n",
      " [ 436  436  456  691  588]\n",
      " [ 343  328  375  655  965]] \n",
      "\n",
      "Classification Report: \n",
      "               precision    recall  f1-score   support\n",
      "\n",
      "     Class 0       0.35      0.43      0.39      2635\n",
      "     Class 1       0.29      0.29      0.29      2632\n",
      "     Class 2       0.26      0.20      0.23      2695\n",
      "     Class 3       0.28      0.27      0.27      2607\n",
      "     Class 4       0.35      0.36      0.36      2666\n",
      "\n",
      "    accuracy                           0.31     13235\n",
      "   macro avg       0.31      0.31      0.31     13235\n",
      "weighted avg       0.31      0.31      0.31     13235\n",
      "\n"
     ]
    }
   ],
   "source": [
    "dtc_predicted = dtc.predict(X_test)\n",
    "print(\"Confusion Matrix: \\n\", confusion_matrix(y_test, dtc_predicted), \"\\n\")\n",
    "print(\"Classification Report: \\n\", classification_report(y_test, dtc_predicted, target_names = target_names))"
   ]
  },
  {
   "cell_type": "markdown",
   "id": "b12c63a6",
   "metadata": {},
   "source": [
    "The classes with the highest accuracy value are 0 and 4, but the former has a higher recall value, while the accuracy is 31%."
   ]
  },
  {
   "cell_type": "code",
   "execution_count": 31,
   "id": "bf223d46",
   "metadata": {
    "execution": {
     "iopub.execute_input": "2022-01-05T09:51:46.201179Z",
     "iopub.status.busy": "2022-01-05T09:51:46.200939Z",
     "iopub.status.idle": "2022-01-05T09:51:49.403945Z",
     "shell.execute_reply": "2022-01-05T09:51:49.403049Z",
     "shell.execute_reply.started": "2022-01-05T09:51:46.201150Z"
    },
    "id": "pBRtjR--wuch",
    "outputId": "7ad359b5-e7aa-4ed0-fc03-b5266c203d65"
   },
   "outputs": [
    {
     "name": "stdout",
     "output_type": "stream",
     "text": [
      "Max Accuracy: 0.22  Mean Accuracy: 0.13 +/- 0.13\n",
      "CPU times: user 42.3 ms, sys: 10.1 ms, total: 52.4 ms\n",
      "Wall time: 3.19 s\n"
     ]
    }
   ],
   "source": [
    "%%time\n",
    "\n",
    "dtc_clf = tree.DecisionTreeClassifier(criterion = dtc_best_params['criterion'],\n",
    "                                    min_samples_leaf = dtc_best_params['min_samples_leaf'],\n",
    "                                    max_depth = dtc_best_params['max_depth'])\n",
    "\n",
    "dtc_scores = cross_val_score(dtc_clf, X, y, cv=5, n_jobs=-1)\n",
    "print(\"Max Accuracy:\", \"{:.2f}\".format(max(dtc_scores)), \" Mean Accuracy:\", \"{:.2f}\".format(dtc_scores.mean()), \"+/-\", \"{:.2f}\".format(dtc_scores.std()*2))"
   ]
  },
  {
   "cell_type": "markdown",
   "id": "f702c711",
   "metadata": {},
   "source": [
    "By comparing the last two cells we can see how the accuracy obtained is lower than the accuracy we printed in the classification report (13% instead of 31%).\n",
    "This is because the cross-validation operation is used to reduce the probability of being unlucky and lucky by splitting the data set."
   ]
  },
  {
   "cell_type": "markdown",
   "id": "eba47ee6",
   "metadata": {
    "id": "Xe1kJM3wwuch"
   },
   "source": [
    "#### SVM"
   ]
  },
  {
   "cell_type": "markdown",
   "id": "e9cb50c6",
   "metadata": {},
   "source": [
    "SVM is a supervised machine learning algorithm and aims to find a hyperplane that separates instances well, called the decision boundary.\n",
    "\n",
    "The goal is to maximize the margin to avoid overfitting (small margin) or to have a more general model which leads to more classification errors.\n",
    "Margin is the width by which the boundary can be increased before reaching a data point in the learning set."
   ]
  },
  {
   "cell_type": "markdown",
   "id": "2c849b03",
   "metadata": {
    "id": "No9rAAOUwuch"
   },
   "source": [
    "##### Hyper-Parameter"
   ]
  },
  {
   "cell_type": "code",
   "execution_count": 32,
   "id": "840837bf",
   "metadata": {
    "execution": {
     "iopub.execute_input": "2022-01-05T09:51:49.406276Z",
     "iopub.status.busy": "2022-01-05T09:51:49.405945Z",
     "iopub.status.idle": "2022-01-05T10:40:36.814604Z",
     "shell.execute_reply": "2022-01-05T10:40:36.813803Z",
     "shell.execute_reply.started": "2022-01-05T09:51:49.406223Z"
    },
    "id": "kDGgobrmwuch"
   },
   "outputs": [
    {
     "name": "stdout",
     "output_type": "stream",
     "text": [
      "Best parameters: {'C': 100000, 'gamma': 1, 'kernel': 'linear'}\n",
      "CPU times: user 7min 25s, sys: 162 ms, total: 7min 25s\n",
      "Wall time: 48min 47s\n"
     ]
    }
   ],
   "source": [
    "%%time\n",
    "\n",
    "# I avoided using the \"rbf\" kernel because trying it took too long to run (over an afternoon).\n",
    "svm_parameters = {\n",
    "    'kernel': ['linear'],\n",
    "    'gamma': [1, 1e-1, 1e-2],\n",
    "    'C': [100, 1000, 100000]}\n",
    "\n",
    "svc = GridSearchCV(svm.SVC(), svm_parameters, n_jobs=-1)\n",
    "svc.fit(X_train, y_train)  \n",
    "\n",
    "svc_best_params = svc.best_params_\n",
    "print(\"Best parameters:\", svc_best_params)"
   ]
  },
  {
   "cell_type": "markdown",
   "id": "6b8e0f77",
   "metadata": {
    "id": "-NOKZdMVwuci"
   },
   "source": [
    "##### Evaluation"
   ]
  },
  {
   "cell_type": "code",
   "execution_count": 33,
   "id": "0e82f3fb",
   "metadata": {
    "execution": {
     "iopub.execute_input": "2022-01-05T10:40:36.816058Z",
     "iopub.status.busy": "2022-01-05T10:40:36.815819Z",
     "iopub.status.idle": "2022-01-05T10:40:57.850877Z",
     "shell.execute_reply": "2022-01-05T10:40:57.850054Z",
     "shell.execute_reply.started": "2022-01-05T10:40:36.816030Z"
    },
    "id": "lVLWQLjiwuci"
   },
   "outputs": [
    {
     "name": "stdout",
     "output_type": "stream",
     "text": [
      "Confusion Matrix: \n",
      " [[1546  326  167  216  380]\n",
      " [1112  535  219  359  407]\n",
      " [ 943  251  321  615  565]\n",
      " [ 613  266  233  863  632]\n",
      " [ 499  173  186  745 1063]] \n",
      "\n",
      "Classification Report: \n",
      "               precision    recall  f1-score   support\n",
      "\n",
      "     Class 0       0.33      0.59      0.42      2635\n",
      "     Class 1       0.34      0.20      0.26      2632\n",
      "     Class 2       0.29      0.12      0.17      2695\n",
      "     Class 3       0.31      0.33      0.32      2607\n",
      "     Class 4       0.35      0.40      0.37      2666\n",
      "\n",
      "    accuracy                           0.33     13235\n",
      "   macro avg       0.32      0.33      0.31     13235\n",
      "weighted avg       0.32      0.33      0.31     13235\n",
      "\n"
     ]
    }
   ],
   "source": [
    "svc_predicted = svc.predict(X_test) \n",
    "\n",
    "print(\"Confusion Matrix: \\n\", confusion_matrix(y_test, svc_predicted), \"\\n\")\n",
    "print(\"Classification Report: \\n\", classification_report(y_test, svc_predicted, target_names = target_names))"
   ]
  },
  {
   "cell_type": "markdown",
   "id": "16f53c65",
   "metadata": {},
   "source": [
    "In this case we obtain an accuracy of 33% that is very similar to the accuracy obtained from DTC. "
   ]
  },
  {
   "cell_type": "code",
   "execution_count": 34,
   "id": "32b2e2b9",
   "metadata": {
    "execution": {
     "iopub.execute_input": "2022-01-05T10:40:57.852799Z",
     "iopub.status.busy": "2022-01-05T10:40:57.852259Z",
     "iopub.status.idle": "2022-01-05T11:10:40.617854Z",
     "shell.execute_reply": "2022-01-05T11:10:40.616730Z",
     "shell.execute_reply.started": "2022-01-05T10:40:57.852754Z"
    },
    "id": "U6F6NikTwuci"
   },
   "outputs": [
    {
     "name": "stdout",
     "output_type": "stream",
     "text": [
      "Max Accuracy: 0.32  Mean Accuracy: 0.29 +/- 0.06\n",
      "CPU times: user 160 ms, sys: 88.4 ms, total: 248 ms\n",
      "Wall time: 29min 42s\n"
     ]
    }
   ],
   "source": [
    "%%time\n",
    "\n",
    "svc_clf = svm.SVC(kernel = svc_best_params['kernel'], gamma = svc_best_params['gamma'], C = svc_best_params['C'])\n",
    "\n",
    "svc_scores = cross_val_score(svc_clf, X, y, cv=5, n_jobs=-1)\n",
    "\n",
    "print(\"Max Accuracy:\", \"{:.2f}\".format(max(svc_scores)), \" Mean Accuracy:\", \"{:.2f}\".format(svc_scores.mean()), \"+/-\", \"{:.2f}\".format(svc_scores.std()*2))"
   ]
  },
  {
   "cell_type": "markdown",
   "id": "34da396a",
   "metadata": {},
   "source": [
    "As for Decision Tree the accuracy obtained is lower than the accuracy we printed in the classification report (29% instead of 33%)."
   ]
  },
  {
   "cell_type": "markdown",
   "id": "ab6c7d51",
   "metadata": {
    "id": "4tUIyl3Iwuci"
   },
   "source": [
    "#### Random Forest"
   ]
  },
  {
   "cell_type": "markdown",
   "id": "637d445e",
   "metadata": {},
   "source": [
    "The ensemble method is a supervised machine learning algorithm consisting of a set of classifiers that learn a target function and their individual predictions are combined to classify new examples.\n",
    "Ensembles generally improve the generalization performance and reduces the variance of a set of classifiers on a domain.\n",
    "\n",
    "The algorithm used belonging to the category of essemble methods is the Random Forest which uses a set of d-trees and then chooses the final classification with a voting method such as Majority Voting."
   ]
  },
  {
   "cell_type": "markdown",
   "id": "c9895138",
   "metadata": {
    "id": "N7KqRx36wuci"
   },
   "source": [
    "##### Hyper-Parameter"
   ]
  },
  {
   "cell_type": "code",
   "execution_count": 40,
   "id": "68736fc9",
   "metadata": {
    "execution": {
     "iopub.execute_input": "2022-01-05T11:25:03.584923Z",
     "iopub.status.busy": "2022-01-05T11:25:03.584554Z",
     "iopub.status.idle": "2022-01-05T11:51:59.721190Z",
     "shell.execute_reply": "2022-01-05T11:51:59.719424Z",
     "shell.execute_reply.started": "2022-01-05T11:25:03.584887Z"
    },
    "id": "Y7tZjkmAwucj"
   },
   "outputs": [
    {
     "name": "stderr",
     "output_type": "stream",
     "text": [
      "/opt/conda/lib/python3.7/site-packages/joblib/externals/loky/process_executor.py:705: UserWarning: A worker stopped while some jobs were given to the executor. This can be caused by a too short worker timeout or by a memory leak.\n",
      "  \"timeout or by a memory leak.\", UserWarning\n"
     ]
    },
    {
     "name": "stdout",
     "output_type": "stream",
     "text": [
      "Best parameters: {'max_depth': 100, 'min_samples_leaf': 1, 'n_estimators': 500}\n",
      "CPU times: user 1min 33s, sys: 1.45 s, total: 1min 35s\n",
      "Wall time: 26min 56s\n"
     ]
    }
   ],
   "source": [
    "%%time\n",
    "\n",
    "parameter_RF = {\n",
    "    'min_samples_leaf': [1, 3],\n",
    "    'n_estimators': [500, 1000],\n",
    "    'max_depth': [50, 100]}\n",
    "\n",
    "rf = GridSearchCV(RandomForestClassifier(), parameter_RF, n_jobs=-1)\n",
    "rf.fit(X_train, y_train) \n",
    "\n",
    "rf_best_params = rf.best_params_\n",
    "print(\"Best parameters:\", rf_best_params)"
   ]
  },
  {
   "cell_type": "markdown",
   "id": "0e5017bb",
   "metadata": {
    "id": "htdnrJYEwucj"
   },
   "source": [
    "##### Evaluation"
   ]
  },
  {
   "cell_type": "code",
   "execution_count": null,
   "id": "9ce001bd",
   "metadata": {
    "execution": {
     "iopub.execute_input": "2022-01-05T11:51:59.725117Z",
     "iopub.status.busy": "2022-01-05T11:51:59.724819Z",
     "iopub.status.idle": "2022-01-05T11:52:02.188371Z"
    },
    "id": "AgmYYywgwucj"
   },
   "outputs": [
    {
     "name": "stdout",
     "output_type": "stream",
     "text": [
      "Confusion Matrix: \n",
      " [[1374  460  270  205  326]\n",
      " [ 650 1035  349  277  321]\n",
      " [ 543  390  572  597  593]\n",
      " [ 359  312  414  872  650]\n",
      " [ 280  195  293  597 1301]] \n",
      "\n",
      "Classification Report: \n",
      "               precision    recall  f1-score   support\n",
      "\n",
      "     Class 0       0.43      0.52      0.47      2635\n",
      "     Class 1       0.43      0.39      0.41      2632\n",
      "     Class 2       0.30      0.21      0.25      2695\n",
      "     Class 3       0.34      0.33      0.34      2607\n",
      "     Class 4       0.41      0.49      0.44      2666\n",
      "\n",
      "    accuracy                           0.39     13235\n",
      "   macro avg       0.38      0.39      0.38     13235\n",
      "weighted avg       0.38      0.39      0.38     13235\n",
      "\n"
     ]
    }
   ],
   "source": [
    "rf_predicted = rf.predict(X_test)\n",
    "\n",
    "print(\"Confusion Matrix: \\n\", confusion_matrix(y_test, rf_predicted), \"\\n\")\n",
    "print(\"Classification Report: \\n\", classification_report(y_test, rf_predicted, target_names=target_names))"
   ]
  },
  {
   "cell_type": "markdown",
   "id": "97a84caa",
   "metadata": {},
   "source": [
    "In this case we obtain an accuracy of 40% that is slightly higher to the accuracy obtained from DTC. "
   ]
  },
  {
   "cell_type": "code",
   "execution_count": null,
   "id": "d7f08c94",
   "metadata": {
    "execution": {
     "iopub.execute_input": "2022-01-05T11:52:02.195779Z",
     "iopub.status.busy": "2022-01-05T11:52:02.195030Z",
     "iopub.status.idle": "2022-01-05T11:56:31.651722Z"
    },
    "id": "O-n2W_GAwucj"
   },
   "outputs": [
    {
     "name": "stdout",
     "output_type": "stream",
     "text": [
      "Max Accuracy:  0.33  Mean Accuracy: 0.25 +/- 0.16\n",
      "CPU times: user 94.4 ms, sys: 92.2 ms, total: 187 ms\n",
      "Wall time: 4min 29s\n"
     ]
    }
   ],
   "source": [
    "%%time\n",
    "\n",
    "rf_clf = RandomForestClassifier(n_estimators = rf_best_params['n_estimators'], \n",
    "                                min_samples_leaf = rf_best_params['min_samples_leaf'],\n",
    "                                max_depth = rf_best_params['max_depth'])\n",
    "\n",
    "rf_scores = cross_val_score(rf_clf, X, y, cv=5, n_jobs=-1)\n",
    "\n",
    "print(\"Max Accuracy: \", \"{:.2f}\".format(max(rf_scores)), \" Mean Accuracy:\", \"{:.2f}\".format(rf_scores.mean()), \"+/-\", \"{:.2f}\".format(rf_scores.std()*2))"
   ]
  },
  {
   "cell_type": "markdown",
   "id": "368dcf96",
   "metadata": {},
   "source": [
    "As for Decision Tree and SVM the accuracy obtained is lower than the accuracy we printed in the classification report (25% instead of 39%)."
   ]
  },
  {
   "cell_type": "markdown",
   "id": "40de4cba",
   "metadata": {
    "id": "NUWlV7wfwucj"
   },
   "source": [
    "#### Multi Layer Perceptron Networks Classifier"
   ]
  },
  {
   "cell_type": "markdown",
   "id": "5e98ed8c",
   "metadata": {},
   "source": [
    "MLPNs is a supervised machine learning algorithm which uses binary classifiers. The MLPN structure is composed of input, hidden and output layers, each layer fully connected to the next, with activation feeding forward. In MLPN we want our outputs to be as close to the right one as possible, and so we need to iteratively adjust the weights of each edge.\n",
    "\n",
    "In the following, we are going to show the necessary code to train a model and to obtain the best parameter for this model. Multi Layer Perceptron Networks Classifier need data scaled and normalized but as we said at the beginning of the section we decided to use scaled and normalized data and so we are ready to train our model."
   ]
  },
  {
   "cell_type": "markdown",
   "id": "555c9201",
   "metadata": {
    "id": "28Ac_scywuck"
   },
   "source": [
    "##### Hyper-Parameter"
   ]
  },
  {
   "cell_type": "code",
   "execution_count": 51,
   "id": "75dce601",
   "metadata": {
    "execution": {
     "iopub.execute_input": "2022-01-05T11:10:55.576719Z",
     "iopub.status.busy": "2022-01-05T11:10:55.576352Z",
     "iopub.status.idle": "2022-01-05T11:14:50.996321Z",
     "shell.execute_reply": "2022-01-05T11:14:50.995177Z",
     "shell.execute_reply.started": "2022-01-05T11:10:55.576679Z"
    },
    "id": "kzNWKFtgwuck"
   },
   "outputs": [
    {
     "name": "stderr",
     "output_type": "stream",
     "text": [
      "/home/andrea/Scaricati/ENTER/lib/python3.8/site-packages/sklearn/neural_network/_multilayer_perceptron.py:500: ConvergenceWarning: lbfgs failed to converge (status=1):\n",
      "STOP: TOTAL NO. of ITERATIONS REACHED LIMIT.\n",
      "\n",
      "Increase the number of iterations (max_iter) or scale the data as shown in:\n",
      "    https://scikit-learn.org/stable/modules/preprocessing.html\n",
      "  self.n_iter_ = _check_optimize_result(\"lbfgs\", opt_res, self.max_iter)\n",
      "/home/andrea/Scaricati/ENTER/lib/python3.8/site-packages/sklearn/neural_network/_multilayer_perceptron.py:500: ConvergenceWarning: lbfgs failed to converge (status=1):\n",
      "STOP: TOTAL NO. of ITERATIONS REACHED LIMIT.\n",
      "\n",
      "Increase the number of iterations (max_iter) or scale the data as shown in:\n",
      "    https://scikit-learn.org/stable/modules/preprocessing.html\n",
      "  self.n_iter_ = _check_optimize_result(\"lbfgs\", opt_res, self.max_iter)\n",
      "/home/andrea/Scaricati/ENTER/lib/python3.8/site-packages/sklearn/neural_network/_multilayer_perceptron.py:500: ConvergenceWarning: lbfgs failed to converge (status=1):\n",
      "STOP: TOTAL NO. of ITERATIONS REACHED LIMIT.\n",
      "\n",
      "Increase the number of iterations (max_iter) or scale the data as shown in:\n",
      "    https://scikit-learn.org/stable/modules/preprocessing.html\n",
      "  self.n_iter_ = _check_optimize_result(\"lbfgs\", opt_res, self.max_iter)\n",
      "/home/andrea/Scaricati/ENTER/lib/python3.8/site-packages/sklearn/neural_network/_multilayer_perceptron.py:500: ConvergenceWarning: lbfgs failed to converge (status=1):\n",
      "STOP: TOTAL NO. of ITERATIONS REACHED LIMIT.\n",
      "\n",
      "Increase the number of iterations (max_iter) or scale the data as shown in:\n",
      "    https://scikit-learn.org/stable/modules/preprocessing.html\n",
      "  self.n_iter_ = _check_optimize_result(\"lbfgs\", opt_res, self.max_iter)\n"
     ]
    },
    {
     "name": "stdout",
     "output_type": "stream",
     "text": [
      "Best parameters: {'tol': 0.001, 'solver': 'adam', 'hidden_layer_sizes': (30, 15, 10), 'alpha': 1e-05}\n",
      "CPU times: user 16 s, sys: 372 ms, total: 16.4 s\n",
      "Wall time: 50.5 s\n"
     ]
    }
   ],
   "source": [
    "%%time\n",
    "\n",
    "parameter_MLP = {\n",
    "    'hidden_layer_sizes' : [(10, 5, 2), (20, 10, 5), (30, 15, 10)],\n",
    "    'alpha' : [1e-2, 1e-3, 1e-4, 1e-5],\n",
    "    'solver' : ['lbfgs', 'sgd', 'adam'],\n",
    "    'tol': [1e-2, 1e-3, 1e-4]}\n",
    "\n",
    "mlpn = RandomizedSearchCV(MLPClassifier(), parameter_MLP, n_jobs=-1)\n",
    "mlpn.fit(X_train, y_train)\n",
    "\n",
    "mlp_best_params = mlpn.best_params_\n",
    "print(\"Best parameters:\", mlp_best_params)"
   ]
  },
  {
   "cell_type": "markdown",
   "id": "3cb7bcc2",
   "metadata": {},
   "source": [
    "As we can see, for some cases the algorithm does not converge, in fact it reaches the maximum of the iterations (by default it is 200). For this reason I have inserted the parameter <i> tol </i>, in order to increase the tolerance for optimization.\n",
    "\n",
    "Another option was to increase the number of iterations for MLPClassifier, however testing I found there was no improvement by taking the number of iterations up to 600."
   ]
  },
  {
   "cell_type": "markdown",
   "id": "3a6f2b0a",
   "metadata": {
    "id": "GV3LpL3lwuck"
   },
   "source": [
    "##### Evaluation"
   ]
  },
  {
   "cell_type": "code",
   "execution_count": 52,
   "id": "37dcf16b",
   "metadata": {
    "execution": {
     "iopub.execute_input": "2022-01-05T11:14:50.999254Z",
     "iopub.status.busy": "2022-01-05T11:14:50.998816Z",
     "iopub.status.idle": "2022-01-05T11:14:51.128995Z",
     "shell.execute_reply": "2022-01-05T11:14:51.128052Z",
     "shell.execute_reply.started": "2022-01-05T11:14:50.999198Z"
    },
    "id": "BdylSFHWwuck"
   },
   "outputs": [
    {
     "name": "stdout",
     "output_type": "stream",
     "text": [
      "Confusion Matrix: \n",
      " [[1636  190  188  260  361]\n",
      " [1307  255  231  416  423]\n",
      " [ 931  214  295  699  556]\n",
      " [ 613  192  223  973  606]\n",
      " [ 497  152  134  821 1062]] \n",
      "\n",
      "Classification Report: \n",
      "               precision    recall  f1-score   support\n",
      "\n",
      "     Class 0       0.33      0.62      0.43      2635\n",
      "     Class 1       0.25      0.10      0.14      2632\n",
      "     Class 2       0.28      0.11      0.16      2695\n",
      "     Class 3       0.31      0.37      0.34      2607\n",
      "     Class 4       0.35      0.40      0.37      2666\n",
      "\n",
      "    accuracy                           0.32     13235\n",
      "   macro avg       0.30      0.32      0.29     13235\n",
      "weighted avg       0.30      0.32      0.29     13235\n",
      "\n"
     ]
    }
   ],
   "source": [
    "mpl_predicted = mlpn.predict(X_test)\n",
    "\n",
    "print(\"Confusion Matrix: \\n\", confusion_matrix(y_test, mpl_predicted), \"\\n\")\n",
    "print(\"Classification Report: \\n\", classification_report(y_test, mpl_predicted, target_names = target_names))"
   ]
  },
  {
   "cell_type": "markdown",
   "id": "e8c4d129",
   "metadata": {},
   "source": [
    "For MLPNs we obtain an accuracy of 33%."
   ]
  },
  {
   "cell_type": "code",
   "execution_count": 53,
   "id": "5be203fd",
   "metadata": {
    "execution": {
     "iopub.execute_input": "2022-01-05T11:14:51.131722Z",
     "iopub.status.busy": "2022-01-05T11:14:51.131026Z",
     "iopub.status.idle": "2022-01-05T11:16:25.100484Z",
     "shell.execute_reply": "2022-01-05T11:16:25.099793Z",
     "shell.execute_reply.started": "2022-01-05T11:14:51.131672Z"
    },
    "id": "eGBZe5hUwuck"
   },
   "outputs": [
    {
     "name": "stdout",
     "output_type": "stream",
     "text": [
      "Max Accuracy:  0.31  Mean Accuracy: 0.29 +/- 0.07\n",
      "CPU times: user 207 ms, sys: 26.4 ms, total: 234 ms\n",
      "Wall time: 24.2 s\n"
     ]
    }
   ],
   "source": [
    "%%time\n",
    "\n",
    "mlpn_clf = MLPClassifier(solver = mlp_best_params['solver'],\n",
    "                    hidden_layer_sizes = mlp_best_params['hidden_layer_sizes'],\n",
    "                    alpha = mlp_best_params['alpha'],\n",
    "                    tol = mlp_best_params['tol'])\n",
    "\n",
    "mpl_scores = cross_val_score(mlpn_clf, X, y, cv=5, n_jobs=-1)\n",
    "print(\"Max Accuracy: \", \"{:.2f}\".format(max(mpl_scores)), \" Mean Accuracy:\", \"{:.2f}\".format(mpl_scores.mean()), \"+/-\", \"{:.2f}\".format(mpl_scores.std()*2))"
   ]
  },
  {
   "cell_type": "markdown",
   "id": "c178ecb2",
   "metadata": {},
   "source": [
    "And as for all the other models, also for MLPN the accuracy obtained is lower than that of the classification report (29% instead of 33%)."
   ]
  },
  {
   "cell_type": "markdown",
   "id": "4455083e",
   "metadata": {
    "id": "eQAH0FRawuck"
   },
   "source": [
    "<hr>\n",
    "\n",
    "# 4. Summary\n",
    "Provide a summary discussion (in English) of your solution <b>(at least 500 words)</b> feel free to include plots figures and tables.\n",
    "\n",
    "<b>This is a mandatory step</b>"
   ]
  },
  {
   "cell_type": "markdown",
   "id": "6dc76591",
   "metadata": {
    "id": "EczXV4aWwucl"
   },
   "source": [
    "#### Cleaning and Loading\n",
    "\n"
   ]
  },
  {
   "cell_type": "markdown",
   "id": "e65f5387",
   "metadata": {
    "id": "GzFagd-byMRd"
   },
   "source": [
    "The first approach was to analyze the `OnlineNewsPopularity.csv` file, in which I found and corrected errors due to the use of incorrect characters, such as `\\n` in the middle of the lines or extra commas.\n",
    "After that I made a clean copy of the csv, and in uploading it via Pandas I also noticed that there were some missing values ​​in the form of \" *n.a.*\" , which are not recognized as NaN values ​​by Pandas, to solve this problem I used the `na_values` attribute of `pd.read_csv`.\n",
    "\n",
    "Subsequently I decided to delete the rows containing the Missing Value, this is because the percentage of the latter is about 1% of the total of the rows, so it is not advisable to apply the Imputer, which is used instead if the percentage of missing values is around 20%.\n",
    "\n",
    "Finally, since the `url` categorical feature has a number of different elements equal to the number of lines, I decided to delete it, as it is irrelevant."
   ]
  },
  {
   "cell_type": "markdown",
   "id": "a300cfae",
   "metadata": {
    "id": "ZAwCSn0QyCkd"
   },
   "source": [
    "#### Preprocessing"
   ]
  },
  {
   "cell_type": "markdown",
   "id": "53ecd0c1",
   "metadata": {
    "id": "84UAihGzyPKH"
   },
   "source": [
    "Once I cleaned the DataSet I started the pre-processing phase, this is an important step since the data, in most cases, cannot be used directly by some learning algorithms without first being preprocessed.\n",
    "\n",
    "The preprocessing phase includes the **encoding** phase however there are no categorical features as I have decided to discard the `url` feature.\n",
    "\n",
    "First I **discretized** the target feature (`shares`) in 5 bins, to simplify the problem using the `KBinDiscretizer`, this is because the accuracy increases with a smaller number of classes as described on the paper (the delivery specifies that at least 5 bins must be used).\n",
    "\n",
    "So the next step was the class **balancing**, in particular the classes weren't too unbalanced but it is a necessary preprocessing step as some models, like Decision Tree, suffer if the classes are unbalanced.\n",
    "The option I decided to follow to manage class balancing was the `SMOTE` oversampling method, it is a better strategy than the subsampling and oversampling methods, as the former can lead to discarding useful samples and the latter can lead to overfitting. Specifically, the SMOTE method creates new instances of the minority class by forming a convex combination of neighboring samples.\n",
    "\n",
    "After performing the balancing, I proceeded to perform the **scaling**and **normalization** of the features, this is because some models, such as SVM, are more efficient if the data is resized.\n",
    "\n",
    "Finally I divided the dataset into **training** and **test** **sets** having dimensions 70 and 30 respectively, this is because a division into 80 - 20 takes much longer to run for the models."
   ]
  },
  {
   "cell_type": "markdown",
   "id": "e472e6aa",
   "metadata": {},
   "source": [
    "#### Dataset and Feature Importance Analysis"
   ]
  },
  {
   "cell_type": "markdown",
   "id": "d49737f1",
   "metadata": {},
   "source": [
    "Subsequently I carried out the chapter of Dataset Analysis, using however the dataset not yet preprocessed (more precisely without balancing, scaling and normalization of the data), unlike the chapter of the Features Importance Analysis.\n",
    "Thanks to the data shown by the execution of the last phase, I have eliminated some features that were not very relevant from the analysis, in order to improve performance and speed up the execution of the learning algorithms."
   ]
  },
  {
   "cell_type": "markdown",
   "id": "46fd34a7",
   "metadata": {
    "id": "YEIZ4EtGyGC0"
   },
   "source": [
    "\n",
    "#### Model Selection and Evaluation"
   ]
  },
  {
   "cell_type": "markdown",
   "id": "e4c903a7",
   "metadata": {
    "id": "CvQzfZ_T4RJ1"
   },
   "source": [
    "\n",
    "The models used for this phase are: **Decision Tree**, **SVM**, **Random Forest** (ensemble method) and **MLPN**.\n",
    "The same approach was adopted for each model, i.e. first of all the **hyper-parameters** were tuned with `GridSearchSV` function, then the models were trained with the training set, composed of scaled and normalized data, thus identifying the optimal parameters.\n",
    "\n",
    "After this I observe the results obtained with `confusion matrix` and `classification report`, from which it can be seen that \"Class 2\" is the most difficult to predict for all models, while the easiest classes to predict are those at the \"extremes\" (unpopular and popular), that is classes 0 and 4. This observation is also consistent with the results of paper [1], in which only two classes are used, that is, one for the most popular articles and another for those less.\n",
    "\n",
    "Finally, I use k-fold cross-validation, with k equal to 5, for each model, to find the best possible splitting of the dataset in train and test set, and print the average and maximum accuracy values ​​found.\n",
    " \n",
    "In conclusion I compared the results of all the models and got more accuracy with the MLPNs classifier and SVMs reaching around 29%, followed by the Random Forest classifier 25% and the Decision Tree classifier (13%).\n",
    "\n",
    "I had also initially tried to test the various models using the non-scaled and non-normalized dataset, however I decided to discard this comparison because the execution took too long (except for the Decision Tree Classifier whose execution times were more or less similar).\n",
    "\n"
   ]
  },
  {
   "cell_type": "code",
   "execution_count": null,
   "id": "1decf44e",
   "metadata": {},
   "outputs": [],
   "source": []
  }
 ],
 "metadata": {
  "kernelspec": {
   "display_name": "Python 3 (ipykernel)",
   "language": "python",
   "name": "python3"
  },
  "language_info": {
   "codemirror_mode": {
    "name": "ipython",
    "version": 3
   },
   "file_extension": ".py",
   "mimetype": "text/x-python",
   "name": "python",
   "nbconvert_exporter": "python",
   "pygments_lexer": "ipython3",
   "version": "3.8.8"
  }
 },
 "nbformat": 4,
 "nbformat_minor": 5
}
